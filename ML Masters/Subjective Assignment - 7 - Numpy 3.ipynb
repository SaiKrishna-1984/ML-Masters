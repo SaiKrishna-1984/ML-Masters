{
 "cells": [
  {
   "cell_type": "markdown",
   "metadata": {},
   "source": [
    "# Assignment"
   ]
  },
  {
   "cell_type": "code",
   "execution_count": 1,
   "metadata": {},
   "outputs": [],
   "source": [
    "import numpy as np"
   ]
  },
  {
   "cell_type": "markdown",
   "metadata": {},
   "source": [
    "Q1. Create two arrays of six elements. Write the NumPy program to\n",
    "count the number of instances of a value occurring in one array on\n",
    "the condition of another array.\n",
    "\n",
    "    Sample OutputOriginal arrays-\n",
    "    [ 10 -10 10 -10 -10 10]\n",
    "    [0.85 0.45 0.9 0.8 0.12 0.6 ]\n",
    "    Number of instances of a value occurring in one array on the condition of another\n",
    "    array: 3\n"
   ]
  },
  {
   "cell_type": "code",
   "execution_count": 2,
   "metadata": {},
   "outputs": [
    {
     "name": "stdout",
     "output_type": "stream",
     "text": [
      "Number of instances A condition match:  3\n",
      "Number of instances B condition match:  5\n",
      "Number of instances of a value occurring in one array on the condition of another array:  3\n"
     ]
    }
   ],
   "source": [
    "A = np.array([ 10, -10, 10, -10, -10, 10])\n",
    "B = np.array([0.85, 0.45, 0.9, 0.8, 0.12, 0.6 ])\n",
    "\n",
    "\n",
    "print('Number of instances A condition match: ', np.sum(A > 0))\n",
    "print('Number of instances B condition match: ', np.sum(B > 0.4))\n",
    "\n",
    "print('Number of instances of a value occurring in one array on the condition of another array: ', np.sum((A > 0) & (B > 0.4)))"
   ]
  },
  {
   "cell_type": "markdown",
   "metadata": {},
   "source": [
    "Q2. Write the NumPy program to convert a Python dictionary to a\n",
    "Numpy ndarray ?\n",
    "    \n",
    "    Original dictionary-\n",
    "    {'column0': {'a': 1, 'b': 0.0, 'c': 0.0, 'd': 2.0},\n",
    "    'column1': {'a': 3.0, 'b': 1, 'c': 0.0, 'd': -1.0},\n",
    "    'column2': {'a': 4, 'b': 1, 'c': 5.0, 'd': -1.0},\n",
    "    'column3': {'a': 3.0, 'b': -1.0, 'c': -1.0, 'd': -1.0}}\n",
    "    Type: <class 'dict'>\n",
    "    ndarray-\n",
    "    [[ 1. 0. 0. 2.]\n",
    "    [ 3. 1. 0. -1.]\n",
    "    [ 4. 1. 5. -1.]\n",
    "    [ 3. -1. -1. -1.]]\n",
    "    Type: <class 'numpy.ndarray'>\n"
   ]
  },
  {
   "cell_type": "code",
   "execution_count": 20,
   "metadata": {},
   "outputs": [],
   "source": [
    "OD = {\n",
    "    'column0': {'a': 1, 'b': 0.0, 'c': 0.0, 'd': 2.0},\n",
    "    'column1': {'a': 3.0, 'b': 1, 'c': 0.0, 'd': -1.0},\n",
    "    'column2': {'a': 4, 'b': 1, 'c': 5.0, 'd': -1.0},\n",
    "    'column3': {'a': 3.0, 'b': -1.0, 'c': -1.0, 'd': -1.0}\n",
    "     }"
   ]
  },
  {
   "cell_type": "code",
   "execution_count": 21,
   "metadata": {},
   "outputs": [
    {
     "name": "stdout",
     "output_type": "stream",
     "text": [
      "[[ 1.  0.  0.  2.]\n",
      " [ 3.  1.  0. -1.]\n",
      " [ 4.  1.  5. -1.]\n",
      " [ 3. -1. -1. -1.]]\n",
      "<class 'numpy.ndarray'>\n"
     ]
    }
   ],
   "source": [
    "List = []\n",
    "for inner_item in OD.values():\n",
    "    List.append( list(inner_item.values()) )\n",
    "\n",
    "A = np.array(List)     \n",
    "print(A)\n",
    "print(type(A))"
   ]
  },
  {
   "cell_type": "markdown",
   "metadata": {},
   "source": [
    "Q3. Write the Numpy program to find and store the non-zero unique\n",
    "rows in an array after comparing each row with other row in the\n",
    "given matrix?\n",
    " \n",
    "    Original array-\n",
    "    [[ 1 1 0]\n",
    "    [ 0 0 0]\n",
    "    [ 0 2 3]\n",
    "    [ 0 0 0]\n",
    "    [ 0 -1 1]\n",
    "    [ 0 0 0]]\n",
    "    Non-zero unique rows-\n",
    "    [[ 1 1 0]\n",
    "    [ 0 2 3]\n",
    "    [ 0 -1 1]]"
   ]
  },
  {
   "cell_type": "code",
   "execution_count": 5,
   "metadata": {},
   "outputs": [
    {
     "name": "stdout",
     "output_type": "stream",
     "text": [
      "Original Array: \n",
      " [[ 1  1  0]\n",
      " [ 0  0  0]\n",
      " [ 0  2  3]\n",
      " [ 0  0  0]\n",
      " [ 0 -1  1]\n",
      " [ 0  0  0]]\n",
      "Non-zero elements of the array: \n",
      " [ 1  1  2  3 -1  1]\n",
      "Non-zero rows: \n",
      " [[ 1  1  0]\n",
      " [ 0  2  3]\n",
      " [ 0 -1  1]]\n"
     ]
    }
   ],
   "source": [
    "A = np.array([[ 1, 1, 0],[0, 0, 0],[0, 2, 3],[0, 0, 0],[0, -1, 1],[0, 0, 0]])\n",
    "print('Original Array: \\n', A)\n",
    "\n",
    "print('Non-zero elements of the array: \\n', A[np.nonzero(A)])\n",
    "\n",
    "NonZeroList = []\n",
    "for i in range(0,len(A)):\n",
    "    if np.array_equal(A[i],np.array([0,0,0])) == False:\n",
    "        NonZeroList.append(A[i])\n",
    "\n",
    "NonZeroArray = np.array(NonZeroList)\n",
    "print('Non-zero rows: \\n', NonZeroArray)"
   ]
  },
  {
   "cell_type": "markdown",
   "metadata": {},
   "source": [
    "Q4. Write the NumPy program to multiply the matrix by another matrix\n",
    "of complex numbers and create a new matrix of complex\n",
    "numbers?\n",
    "\n",
    "    Sample outputFirst array-\n",
    "    [ 1.+2.j 3.+4.j]\n",
    "    Second array-\n",
    "    [ 5.+6.j 7.+8.j]\n",
    "    Product of above two arrays-\n",
    "    (70-8j)"
   ]
  },
  {
   "cell_type": "code",
   "execution_count": 6,
   "metadata": {},
   "outputs": [
    {
     "name": "stdout",
     "output_type": "stream",
     "text": [
      "Dot Product Arrays: \n",
      " (-18+68j)\n",
      "Dot Product Arrays: \n",
      " (-18+68j)\n",
      "Element Product: \n",
      " [ -7.+16.j -11.+52.j]\n",
      "Dot Product of Vectors: \n",
      " (70-8j)\n"
     ]
    }
   ],
   "source": [
    "A = np.array([ 1.+2.j , 3.+4.j])\n",
    "B = np.array([ 5.+6.j , 7.+8.j])\n",
    "\n",
    "print('Dot Product Arrays: \\n',np.dot(A,B))\n",
    "\n",
    "print('Dot Product Arrays: \\n',A@B)\n",
    "\n",
    "print('Element Product: \\n', np.multiply(A,B))\n",
    "\n",
    "print('Dot Product of Vectors: \\n', np.vdot(A,B))"
   ]
  },
  {
   "cell_type": "markdown",
   "metadata": {},
   "source": [
    "Q5. Write a NumPy program to generate the matrix product of two\n",
    "Arrays?\n",
    "\n",
    "    Sample OutputMatrices and vectors.\n",
    "    x-\n",
    "    [[1, 0], [1, 1]]\n",
    "    y-\n",
    "    [[3, 1], [2, 2]]\n",
    "    Matrix product of above two arrays-\n",
    "    [[3 1]\n",
    "    [5 3]]\n"
   ]
  },
  {
   "cell_type": "code",
   "execution_count": 7,
   "metadata": {},
   "outputs": [
    {
     "name": "stdout",
     "output_type": "stream",
     "text": [
      "Dot Product Arrays: \n",
      " [[3 1]\n",
      " [5 3]]\n",
      "Dot Product Arrays: \n",
      " [[3 1]\n",
      " [5 3]]\n"
     ]
    }
   ],
   "source": [
    "x = np.array([[1, 0], [1, 1]])\n",
    "y = np.array([[3, 1], [2, 2]])\n",
    "\n",
    "print('Dot Product Arrays: \\n',np.dot(x,y))\n",
    "\n",
    "print('Dot Product Arrays: \\n',x@y)"
   ]
  },
  {
   "cell_type": "markdown",
   "metadata": {},
   "source": [
    "Q6. Write the NumPy program to find roots of the following Polynomials?\n",
    "\n",
    "    a) (x2 - 4x + 7)\n",
    "    b) x4 - 11x3 + 9x2 + 11x - 10\n",
    "    Sample outputRoots of the first polynomial-\n",
    "    [ 1. 1.]\n",
    "    Roots of the second polynomial-\n",
    "    [ 11.04461946+0.j -0.87114210+0.j 0.91326132+0.4531004j  0.91326132-0.4531004j ]"
   ]
  },
  {
   "cell_type": "code",
   "execution_count": 8,
   "metadata": {},
   "outputs": [
    {
     "name": "stdout",
     "output_type": "stream",
     "text": [
      "Roots of the first polynomial -> x2 - 4x + 7: \n",
      " [2.+1.73205081j 2.-1.73205081j]\n",
      "Roots of the second polynomial -> x4 - 11x3 + 9x2 + 11x - 10: \n",
      " [10.+0.0000000e+00j -1.+0.0000000e+00j  1.+9.6357437e-09j\n",
      "  1.-9.6357437e-09j]\n"
     ]
    }
   ],
   "source": [
    "print(\"Roots of the first polynomial -> x2 - 4x + 7: \\n\", np.roots([1, -4, 7]))\n",
    "\n",
    "print(\"Roots of the second polynomial -> x4 - 11x3 + 9x2 + 11x - 10: \\n\",np.roots([1, -11, 9, 11, -10]))\n"
   ]
  },
  {
   "cell_type": "markdown",
   "metadata": {},
   "source": [
    "Q7. Write the NumPy program to calculate inverse of sine, cosine,\n",
    "and inverse tangent for all elements in a given array?\n",
    "\n",
    "    Sample output\n",
    "    Inverse sine- [-1.57079633 0. 1.57079633]\n",
    "    Inverse cosine- [3.14159265 1.57079633 0. ]\n",
    "    Inverse tangent- [-0.78539816 0. 0.78539816]"
   ]
  },
  {
   "cell_type": "code",
   "execution_count": 9,
   "metadata": {},
   "outputs": [
    {
     "name": "stdout",
     "output_type": "stream",
     "text": [
      "Sine Inverse: \n",
      " [-1.57079633  0.          1.57079633]\n",
      "Cosine Inverse: \n",
      " [3.14159265 1.57079633 0.        ]\n",
      "Tangent Inverse: \n",
      " [-0.78539816  0.          0.78539816]\n",
      "Sine Hyperbolic: \n",
      " [-1.17520119  0.          1.17520119]\n",
      "Cosine Hyperbolic: \n",
      " [1.54308063 1.         1.54308063]\n",
      "Tangent Hyperbolic: \n",
      " [-0.76159416  0.          0.76159416]\n"
     ]
    }
   ],
   "source": [
    "A = np.array([-1., 0, 1.])\n",
    "print('Sine Inverse: \\n', np.arcsin(A))\n",
    "print('Cosine Inverse: \\n', np.arccos(A))\n",
    "print('Tangent Inverse: \\n', np.arctan(A))\n",
    "\n",
    "print('Sine Hyperbolic: \\n', np.sinh(A))\n",
    "print('Cosine Hyperbolic: \\n', np.cosh(A))\n",
    "print('Tangent Hyperbolic: \\n', np.tanh(A))"
   ]
  },
  {
   "cell_type": "markdown",
   "metadata": {},
   "source": [
    "Q8. Write the NumPy program to calculate the difference between in\n",
    "neighbouring elements, element-wise of a given array?\n",
    "\n",
    "    Sample outputOriginal array-\n",
    "    [1 3 5 7 0]\n",
    "    Difference between neighbouring elements, element-wise of the said array-\n",
    "    [ 2 2 2 -7]"
   ]
  },
  {
   "cell_type": "code",
   "execution_count": 10,
   "metadata": {},
   "outputs": [
    {
     "data": {
      "text/plain": [
       "array([ 2,  2,  2, -7])"
      ]
     },
     "execution_count": 10,
     "metadata": {},
     "output_type": "execute_result"
    }
   ],
   "source": [
    "A = np.array([1, 3, 5, 7, 0])\n",
    "\n",
    "np.diff(A, n=1)"
   ]
  },
  {
   "cell_type": "markdown",
   "metadata": {},
   "source": [
    "Q9. Write the Python program to find the maximum and the minimum\n",
    "value of a given flattened array?\n",
    "\n",
    "    Expected OutputOriginal flattened array-\n",
    "    [[0 1]\n",
    "    [2 3]]\n",
    "    Maximum value of the above flattened array3\n",
    "    Minimum value of the above flattened array0"
   ]
  },
  {
   "cell_type": "code",
   "execution_count": 11,
   "metadata": {},
   "outputs": [
    {
     "name": "stdout",
     "output_type": "stream",
     "text": [
      "Max Value: 3\n",
      "Min Value: 0\n"
     ]
    }
   ],
   "source": [
    "A = np.array([[0, 1],[2, 3]])\n",
    "print('Max Value:',np.max(A))\n",
    "print('Min Value:',np.min(A))"
   ]
  },
  {
   "cell_type": "markdown",
   "metadata": {},
   "source": [
    "Q10. Write the NumPy program to calculate the difference between in\n",
    "the maximum and the minimum values of a given array along the\n",
    "second axis ?\n",
    "\n",
    "    Expected OutputOriginal array-\n",
    "    [[ 0 1 2 3 4 5]\n",
    "    [ 6 7 8 9 10 11]]\n",
    "    Difference between the maximum and the minimum values of the said array-\n",
    "    [5 5]\n"
   ]
  },
  {
   "cell_type": "code",
   "execution_count": 12,
   "metadata": {},
   "outputs": [
    {
     "name": "stdout",
     "output_type": "stream",
     "text": [
      "Original Array: \n",
      " [[ 0  1  2  3  4  5]\n",
      " [ 6  7  8  9 10 11]]\n"
     ]
    }
   ],
   "source": [
    "A = np.arange(0,12)\n",
    "A = np.array(np.split(A, [6], axis = 0))\n",
    "\n",
    "print('Original Array: \\n', A)"
   ]
  },
  {
   "cell_type": "markdown",
   "metadata": {},
   "source": [
    "Q11. Write the NumPy program to compute the weighted of the given\n",
    "array ?\n",
    "\n",
    "    Sample OutputOriginal array-\n",
    "    [0 1 2 3 4]\n",
    "    Weighted average of the said array 2.6666666666666665"
   ]
  },
  {
   "cell_type": "code",
   "execution_count": 13,
   "metadata": {},
   "outputs": [
    {
     "name": "stdout",
     "output_type": "stream",
     "text": [
      "Original Array: \n",
      " [0 1 2 3 4]\n",
      "Weighted Average: \n",
      " 3.0\n",
      "Weighted Average: \n",
      " 3.0\n",
      "Weighted Average: \n",
      " 3.0\n",
      "Weighted Average: \n",
      " 2.6666666666666665\n"
     ]
    }
   ],
   "source": [
    "A = np.arange(0,5)\n",
    "print('Original Array: \\n', A)\n",
    "\n",
    "print('Weighted Average: \\n', np.average(A, weights = np.arange(0, 5)))\n",
    "\n",
    "print('Weighted Average: \\n', np.average(A, weights = np.arange(0, 50, 10)))\n",
    "\n",
    "print('Weighted Average: \\n', np.average(A, weights = np.arange(0, 2.5, 0.5)))\n",
    "\n",
    "print('Weighted Average: \\n', np.average(A, weights = np.arange(1, 6)))"
   ]
  },
  {
   "cell_type": "markdown",
   "metadata": {},
   "source": [
    "Q12. Write the NumPy program to compute the mean, standard\n",
    "deviation, and the variance of a given array along the second\n",
    "axis?\n",
    "\n",
    "    Sample outputOriginal array-\n",
    "    [0 1 2 3 4 5]\n",
    "    Mean- 2.5\n",
    "    std- 1\n",
    "    variance- 2.9166666666666665"
   ]
  },
  {
   "cell_type": "code",
   "execution_count": 14,
   "metadata": {},
   "outputs": [
    {
     "name": "stdout",
     "output_type": "stream",
     "text": [
      "Original Array: \n",
      " [0 1 2 3 4 5]\n",
      "Mean: \n",
      " 2.5\n",
      "Standard Deviation: \n",
      " 1.707825127659933\n",
      "Variance: \n",
      " 2.9166666666666665\n"
     ]
    }
   ],
   "source": [
    "A = np.arange(0,6)\n",
    "print('Original Array: \\n', A)\n",
    "\n",
    "print('Mean: \\n', np.mean(A))\n",
    "\n",
    "print('Standard Deviation: \\n', np.std(A, axis=0))\n",
    "\n",
    "print('Variance: \\n', np.var(A, axis=0))"
   ]
  },
  {
   "cell_type": "markdown",
   "metadata": {},
   "source": [
    "Q13. Write the Numpy program to compute the covariance matrix of the\n",
    "two given arrays?\n",
    "    \n",
    "    Sample OutputOriginal array1-\n",
    "    [0 1 2]\n",
    "    Original array1-\n",
    "    [2 1 0]\n",
    "    Covariance matrix of the said arrays-\n",
    "    [[ 1. -1.]\n",
    "    [-1. 1.]]"
   ]
  },
  {
   "cell_type": "code",
   "execution_count": 15,
   "metadata": {},
   "outputs": [
    {
     "name": "stdout",
     "output_type": "stream",
     "text": [
      "Covariance matrix of A wrt B:\n",
      " [[ 1. -1.]\n",
      " [-1.  1.]]\n"
     ]
    }
   ],
   "source": [
    "A = np.array([0, 1, 2])\n",
    "B = np.array([2, 1, 0])\n",
    "\n",
    "print('Covariance matrix of A wrt B:\\n', np.cov(A, B))"
   ]
  },
  {
   "cell_type": "markdown",
   "metadata": {},
   "source": [
    "Q14. Write a NumPy program to compute the cross-correlation of two\n",
    "given arrays ?\n",
    "\n",
    "    Sample OutputOriginal array1-\n",
    "    [0 1 3]\n",
    "    Original array1-\n",
    "    [2 4 5]\n",
    "    Cross-correlation of the said arrays-\n",
    "    [ [ 2.33333333 2.16666667 ]\n",
    "     [ 2.16666667 2.33333333 ] ]"
   ]
  },
  {
   "cell_type": "code",
   "execution_count": 16,
   "metadata": {},
   "outputs": [
    {
     "name": "stdout",
     "output_type": "stream",
     "text": [
      "Cross-correlation matrix of A wrt B:\n",
      " [[2.33333333 2.16666667]\n",
      " [2.16666667 2.33333333]]\n"
     ]
    }
   ],
   "source": [
    "A = np.array([0, 1, 3])\n",
    "B = np.array([2, 4, 5])\n",
    "\n",
    "print('Cross-correlation matrix of A wrt B:\\n', np.cov(A, B))"
   ]
  },
  {
   "cell_type": "markdown",
   "metadata": {},
   "source": [
    "Q15. Write the NumPy program to compute Pearson product-moment\n",
    "correlation coefficients of two given arrays?\n",
    "\n",
    "    Sample OutputOriginal array1-\n",
    "    [0 1 3]\n",
    "    Original array1-\n",
    "    [2 4 5]\n",
    "    Pearson product-moment correlation coefficients of the said arrays-\n",
    "    [[1. 0.92857143]\n",
    "    [0.92857143 1. ]]"
   ]
  },
  {
   "cell_type": "code",
   "execution_count": 17,
   "metadata": {},
   "outputs": [
    {
     "name": "stdout",
     "output_type": "stream",
     "text": [
      "Pearson product-moment correlation coefficients matrix of A wrt B:\n",
      " [[1.         0.92857143]\n",
      " [0.92857143 1.        ]]\n"
     ]
    }
   ],
   "source": [
    "A = np.array([0, 1, 3])\n",
    "B = np.array([2, 4, 5])\n",
    "\n",
    "print('Pearson product-moment correlation coefficients matrix of A wrt B:\\n', np.corrcoef(A, B))"
   ]
  },
  {
   "cell_type": "markdown",
   "metadata": {},
   "source": [
    "Q16. Write the python program to count the number of occurrences of\n",
    "each value in a given array of non-negative integers?\n",
    " \n",
    "Note: bincount() Function- It count the occurrence of each value in an array of the\n",
    "non- negative integers in the range of the array between the minimum and maximum values\n",
    "including the values that did not occur.\n",
    "\n",
    "    Sample OutputOriginal array-\n",
    "    [0, 1, 6, 1, 4, 1, 2, 2, 7]\n",
    "    Number of occurrences of each value in array-\n",
    "    [1 3 2 0 1 0 1 1]"
   ]
  },
  {
   "cell_type": "code",
   "execution_count": 18,
   "metadata": {},
   "outputs": [
    {
     "name": "stdout",
     "output_type": "stream",
     "text": [
      "Original array: \n",
      " [0 1 6 1 4 1 2 2 7]\n",
      "Number of occurrences of each value in array: \n",
      " [1 3 2 0 1 0 1 1]\n"
     ]
    }
   ],
   "source": [
    "A = np.array([0, 1, 6, 1, 4, 1, 2, 2, 7])\n",
    "print('Original array: \\n', A)\n",
    "\n",
    "print('Number of occurrences of each value in array: \\n', np.bincount(A))"
   ]
  },
  {
   "cell_type": "markdown",
   "metadata": {},
   "source": [
    "Q17. Write a Numpy program to compute the histogram of nums\n",
    "against the bins?\n",
    "\n",
    "    Sample Outputnums- [0.5 0.7 1. 1.2 1.3 2.1]\n",
    "    bins- [0 1 2 3]\n",
    "    Result- (array([2, 3, 1], dtype=int64), array([0, 1, 2, 3]))"
   ]
  },
  {
   "cell_type": "code",
   "execution_count": 19,
   "metadata": {},
   "outputs": [
    {
     "name": "stdout",
     "output_type": "stream",
     "text": [
      "Original array - A: \n",
      " [0.5 0.7 1.  1.2 1.3 2.1]\n",
      "Histogram of Numbers in A against bins: \n",
      " (array([2, 3, 1], dtype=int64), array([0, 1, 2, 3]))\n"
     ]
    }
   ],
   "source": [
    "A = np.array([0.5, 0.7, 1., 1.2, 1.3, 2.1])\n",
    "print('Original array - A: \\n', A)\n",
    "\n",
    "bins = np.arange(4)\n",
    "\n",
    "\n",
    "print('Histogram of Numbers in A against bins: \\n', np.histogram(A,bins))\n",
    "\n"
   ]
  },
  {
   "cell_type": "markdown",
   "metadata": {},
   "source": [
    "## Great Job!"
   ]
  }
 ],
 "metadata": {
  "kernelspec": {
   "display_name": "Python 3",
   "language": "python",
   "name": "python3"
  },
  "language_info": {
   "codemirror_mode": {
    "name": "ipython",
    "version": 3
   },
   "file_extension": ".py",
   "mimetype": "text/x-python",
   "name": "python",
   "nbconvert_exporter": "python",
   "pygments_lexer": "ipython3",
   "version": "3.7.6"
  }
 },
 "nbformat": 4,
 "nbformat_minor": 2
}

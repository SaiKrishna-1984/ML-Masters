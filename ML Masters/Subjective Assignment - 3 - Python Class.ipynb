{
 "cells": [
  {
   "cell_type": "markdown",
   "metadata": {},
   "source": [
    "# Assignment"
   ]
  },
  {
   "cell_type": "markdown",
   "metadata": {},
   "source": [
    "Q1. Write the Python class to convert an integer to a roman numeral?"
   ]
  },
  {
   "cell_type": "code",
   "execution_count": 1,
   "metadata": {},
   "outputs": [],
   "source": [
    "class Number:\n",
    "        def __init__(self,number):  \n",
    "            self.number = number\n",
    "            self.Ref_Dict = {1:'I', 4:'IV', 5:'V', 9:'IX', 10:'X', 40:'XL', 50:'L', 90:'XC', 100:'C', 400:'CD', 500:'D', 900:'CM', 1000:'M'}\n",
    "            self.Roman = ''\n",
    "            \n",
    "        def Convert2Roman(self):\n",
    "            \n",
    "            if self.number >= 4000:\n",
    "                self.Roman = 'No Equivalent Roman Numeral'\n",
    "            \n",
    "            else:\n",
    "                number = self.number\n",
    "                \n",
    "                units = [1000,100,10,1]\n",
    "                for unit in units:\n",
    "                    n_units = number//unit\n",
    "                    if (n_units * unit) in self.Ref_Dict.keys():\n",
    "                        self.Roman += self.Ref_Dict[n_units*unit] \n",
    "                    else:\n",
    "                        if n_units > 5:\n",
    "                            self.Roman += self.Ref_Dict[5*unit] \n",
    "                            n_units -= 5\n",
    "                        for i in range(1,n_units+1):\n",
    "                            self.Roman += self.Ref_Dict[unit] \n",
    "                    \n",
    "                    number = number%unit\n",
    "            return self.Roman\n",
    "            \n",
    "    "
   ]
  },
  {
   "cell_type": "code",
   "execution_count": 2,
   "metadata": {},
   "outputs": [
    {
     "data": {
      "text/plain": [
       "'No Equivalent Roman Numeral'"
      ]
     },
     "execution_count": 2,
     "metadata": {},
     "output_type": "execute_result"
    }
   ],
   "source": [
    "Number(4984).Convert2Roman()"
   ]
  },
  {
   "cell_type": "code",
   "execution_count": 3,
   "metadata": {},
   "outputs": [
    {
     "data": {
      "text/plain": [
       "'MMMCMLXXXIV'"
      ]
     },
     "execution_count": 3,
     "metadata": {},
     "output_type": "execute_result"
    }
   ],
   "source": [
    "Number(3984).Convert2Roman()"
   ]
  },
  {
   "cell_type": "code",
   "execution_count": 4,
   "metadata": {},
   "outputs": [
    {
     "data": {
      "text/plain": [
       "'MMCDXCVIII'"
      ]
     },
     "execution_count": 4,
     "metadata": {},
     "output_type": "execute_result"
    }
   ],
   "source": [
    "Number(2498).Convert2Roman()"
   ]
  },
  {
   "cell_type": "markdown",
   "metadata": {},
   "source": [
    "Q2 Write the Python class to convert a Roman numeral to an integer?\n"
   ]
  },
  {
   "cell_type": "code",
   "execution_count": 5,
   "metadata": {},
   "outputs": [],
   "source": [
    "class Roman:\n",
    "        def __init__(self,roman):  \n",
    "            self.roman = roman\n",
    "            self.Ref_Dict = {'I':1, 'IV':4, 'V':5, 'IX':9, 'X':10, 'XL':40, 'L':50, 'XC':90, 'C':100, 'CD':400, 'D':500, 'CM':900, 'M':1000}\n",
    "            self.result = 0\n",
    "            \n",
    "        def Convert2Integer(self):\n",
    "            roman = self.roman\n",
    "            \n",
    "            no_next = 0\n",
    "            for idx in range(len(roman)):\n",
    "                if no_next == 0:\n",
    "                    if roman[idx:idx+2] in self.Ref_Dict.keys():\n",
    "                        self.result += self.Ref_Dict[roman[idx:idx+2]]\n",
    "                        no_next = 1\n",
    "                    else:\n",
    "                        self.result += self.Ref_Dict[roman[idx]]\n",
    "                else:\n",
    "                    no_next = 0\n",
    "            return self.result"
   ]
  },
  {
   "cell_type": "code",
   "execution_count": 6,
   "metadata": {},
   "outputs": [
    {
     "data": {
      "text/plain": [
       "2498"
      ]
     },
     "execution_count": 6,
     "metadata": {},
     "output_type": "execute_result"
    }
   ],
   "source": [
    "Roman('MMCDXCVIII').Convert2Integer()"
   ]
  },
  {
   "cell_type": "code",
   "execution_count": 7,
   "metadata": {},
   "outputs": [
    {
     "data": {
      "text/plain": [
       "3984"
      ]
     },
     "execution_count": 7,
     "metadata": {},
     "output_type": "execute_result"
    }
   ],
   "source": [
    "Roman('MMMCMLXXXIV').Convert2Integer()"
   ]
  },
  {
   "cell_type": "markdown",
   "metadata": {},
   "source": [
    "Q3. Write the Python class to find the validity of the string of the\n",
    "parentheses, '(', ')', '{', '}', '[' and '] and the brackets must be closed\n",
    "in the correct order, example - \"()\" and \"()[]{}\" are valid but \"[)\",\n",
    "\"({[)]\" and \"{{{\" are invalid.\n"
   ]
  },
  {
   "cell_type": "code",
   "execution_count": 38,
   "metadata": {},
   "outputs": [],
   "source": [
    "class Strings:\n",
    "            \n",
    "        def __init__(self, String):\n",
    "            self.String = String\n",
    "    \n",
    "        \n",
    "        def Validate_Parantheses(self):\n",
    "            String = self.String\n",
    "            ref_dic = {  '(' : ')',     '{' : '}',    '[' : ']' }\n",
    "            \n",
    "            open_list  = []\n",
    "            result = True\n",
    "\n",
    "            \n",
    "            for char in String:\n",
    "                \n",
    "                if char in ref_dic.keys():\n",
    "                    open_list.append(char)\n",
    "     \n",
    "                \n",
    "                if char in ref_dic.values():\n",
    "                    if char != ref_dic[open_list[-1]]:\n",
    "                        result = False\n",
    "                    else:\n",
    "                        open_list.remove(open_list[-1])\n",
    "                  \n",
    "            if len(open_list) > 0:\n",
    "                result = False\n",
    "                \n",
    "                \n",
    "            return result\n"
   ]
  },
  {
   "cell_type": "code",
   "execution_count": 39,
   "metadata": {},
   "outputs": [
    {
     "name": "stdout",
     "output_type": "stream",
     "text": [
      "()\t: True\n",
      "()[]{}\t: True\n",
      "[)\t: False\n",
      "({[)]\t: False\n",
      "[({})]\t: True\n",
      "[()]{}\t: True\n",
      "[(]){}\t: False\n",
      "{{{\t: False\n"
     ]
    }
   ],
   "source": [
    "List = [\"()\" , \"()[]{}\" ,\"[)\", \"({[)]\" , \"[({})]\",\"[()]{}\", \"[(]){}\",\"{{{\"]\n",
    "\n",
    "for String in List:\n",
    "    print(String + '\\t:',Strings(String).Validate_Parantheses())\n"
   ]
  },
  {
   "cell_type": "markdown",
   "metadata": {},
   "source": [
    "Q4. Write the Python class to get all possible unique subsets from a set\n",
    "of distinct integers?\n",
    "\n",
    "    Input - [4, 5, 6]\n",
    "    Output - [[], [6], [5], [5, 6], [4], [4, 6], [4, 5], [4, 5, 6]]"
   ]
  },
  {
   "cell_type": "code",
   "execution_count": 1,
   "metadata": {},
   "outputs": [],
   "source": [
    "class List:\n",
    "    def __init__(self,List):\n",
    "        self.l = List\n",
    "        self.length = len(List)\n",
    "    \n",
    "    def get_unique_subsets(self):\n",
    "        result = [[]]\n",
    "        length = len(self.l)\n",
    "        \n",
    "        for fix in range(length):\n",
    "            \n",
    "            if [self.l[fix]] not in result:\n",
    "                result.append([self.l[fix]])\n",
    "                \n",
    "        for take in range(0,self.length):\n",
    "            \n",
    "            elem = self.l[:take] + self.l[take:self.length-take]\n",
    "            if elem not in result:\n",
    "                result.append(elem)\n",
    "                \n",
    "            elem = self.l[:take] + self.l[take+1:]\n",
    "            if elem not in result:\n",
    "                result.append(elem)\n",
    "            \n",
    "            elem = self.l[take:]\n",
    "            if elem not in result:\n",
    "                result.append(elem)\n",
    "                       \n",
    "        return result"
   ]
  },
  {
   "cell_type": "code",
   "execution_count": 2,
   "metadata": {},
   "outputs": [
    {
     "data": {
      "text/plain": [
       "[[], [4], [5], [6], [4, 5, 6], [5, 6], [4, 5], [4, 6]]"
      ]
     },
     "execution_count": 2,
     "metadata": {},
     "output_type": "execute_result"
    }
   ],
   "source": [
    "List([4, 5, 6]).get_unique_subsets() "
   ]
  },
  {
   "cell_type": "code",
   "execution_count": 3,
   "metadata": {},
   "outputs": [],
   "source": [
    "class getSubsets:\n",
    "    def sub_sets(self, sset):\n",
    "        return self.subsetsRecur([], sorted(sset))\n",
    "    \n",
    "    def subsetsRecur(self, current, sset):\n",
    "        if sset:\n",
    "            return self.subsetsRecur(current, sset[1:]) + self.subsetsRecur(current + [sset[0]], sset[1:])\n",
    "        return [current]"
   ]
  },
  {
   "cell_type": "code",
   "execution_count": 8,
   "metadata": {},
   "outputs": [
    {
     "data": {
      "text/plain": [
       "[[], [6], [5], [5, 6], [4], [4, 6], [4, 5], [4, 5, 6]]"
      ]
     },
     "execution_count": 8,
     "metadata": {},
     "output_type": "execute_result"
    }
   ],
   "source": [
    "getSubsets().sub_sets([4,5,6])"
   ]
  },
  {
   "cell_type": "markdown",
   "metadata": {},
   "source": [
    "Q5. Write the Python class to find a pair of elements (indices of the two\n",
    "numbers) from a given array whose sum equals the specific target\n",
    "number?\n",
    "\n",
    "    Input: numbers- [10,20,10,40,50,60,70], target=50\n",
    "    Output- 3, 4"
   ]
  },
  {
   "cell_type": "code",
   "execution_count": 12,
   "metadata": {},
   "outputs": [],
   "source": [
    "class List:\n",
    "    def __init__(self,List,n):\n",
    "        self.l = List\n",
    "        self.n = n\n",
    "    \n",
    "    def target(self):\n",
    "        List = self.l\n",
    "        n = self.n\n",
    "        \n",
    "        result = []\n",
    "        for i in List:\n",
    "            for j in List:\n",
    "                p,q = 0,0\n",
    "                if i+j == target and i != j:\n",
    "                    p,q = List.index(i),List.index(j)\n",
    "              \n",
    "                if q > p:\n",
    "                    result.append((p,q))\n",
    "        return result"
   ]
  },
  {
   "cell_type": "code",
   "execution_count": 13,
   "metadata": {},
   "outputs": [
    {
     "data": {
      "text/plain": [
       "[(0, 3), (1, 2)]"
      ]
     },
     "execution_count": 13,
     "metadata": {},
     "output_type": "execute_result"
    }
   ],
   "source": [
    "Input= [10,20,30,40,50,60,70] \n",
    "target=50\n",
    "\n",
    "List(Input,target).target()"
   ]
  },
  {
   "cell_type": "markdown",
   "metadata": {},
   "source": [
    "Q6. Write the Python class to find the three elements that sum to zero\n",
    "from the set of n real numbers?\n",
    "\n",
    "    Input array- [-25, -10, -7, -3, 2, 4, 8, 10]\n",
    "    Output - [[-10, 2, 8], [-7, -3, 10]]\n"
   ]
  },
  {
   "cell_type": "code",
   "execution_count": 14,
   "metadata": {},
   "outputs": [],
   "source": [
    "class List:\n",
    "    def __init__(self,List,n):\n",
    "        self.l = List\n",
    "        self.n = n\n",
    "    \n",
    "    def target(self):\n",
    "        List = self.l\n",
    "        n = self.n\n",
    "        \n",
    "        result = []\n",
    "        for i in List:\n",
    "            for j in List:\n",
    "                for k in List:\n",
    "                    p,q,r = 0,0,0\n",
    "                    if i+j+k == target and i != j and j!=k:\n",
    "                        p,q,r = i,j,k\n",
    "              \n",
    "                    if q > p and r > q:\n",
    "                        result.append((p,q,r))\n",
    "        return result"
   ]
  },
  {
   "cell_type": "code",
   "execution_count": 15,
   "metadata": {},
   "outputs": [
    {
     "data": {
      "text/plain": [
       "[(-10, 2, 8), (-7, -3, 10)]"
      ]
     },
     "execution_count": 15,
     "metadata": {},
     "output_type": "execute_result"
    }
   ],
   "source": [
    "Input  = [-25, -10, -7, -3, 2, 4, 8, 10] \n",
    "target = 0\n",
    "\n",
    "List(Input,target).target()"
   ]
  },
  {
   "cell_type": "markdown",
   "metadata": {},
   "source": [
    "Q7. Write the Python class to implement pow(x, n)?"
   ]
  },
  {
   "cell_type": "code",
   "execution_count": 16,
   "metadata": {},
   "outputs": [],
   "source": [
    "class numbers:\n",
    "    def __init__(self):\n",
    "        self= self\n",
    "    \n",
    "    def pow(self,x,n):\n",
    "        self.x = x\n",
    "        self.n = n\n",
    "        return ((self.x) ** (self.n))"
   ]
  },
  {
   "cell_type": "code",
   "execution_count": 17,
   "metadata": {},
   "outputs": [
    {
     "data": {
      "text/plain": [
       "8"
      ]
     },
     "execution_count": 17,
     "metadata": {},
     "output_type": "execute_result"
    }
   ],
   "source": [
    "a = numbers()\n",
    "a.pow(2,3)"
   ]
  },
  {
   "cell_type": "markdown",
   "metadata": {},
   "source": [
    "Q8. Write the Python class which has two methods get_String and\n",
    "print_String. get_String accept the string from the user and \n",
    "print_String print the string in upper case."
   ]
  },
  {
   "cell_type": "code",
   "execution_count": 18,
   "metadata": {},
   "outputs": [],
   "source": [
    "class test:\n",
    "    \n",
    "    def __init__(self):\n",
    "        self= self  \n",
    "        \n",
    "    def get_String(self):\n",
    "        self.x = input('Input string:')\n",
    "\n",
    "    def print_String(self):\n",
    "        print((self.x).upper())"
   ]
  },
  {
   "cell_type": "code",
   "execution_count": 19,
   "metadata": {},
   "outputs": [
    {
     "name": "stdout",
     "output_type": "stream",
     "text": [
      "Input string:This session is good!\n",
      "THIS SESSION IS GOOD!\n"
     ]
    }
   ],
   "source": [
    "a = test()\n",
    "a.get_String()\n",
    "a.print_String()"
   ]
  },
  {
   "cell_type": "markdown",
   "metadata": {},
   "source": [
    "Q9. Write the Python class named Rectangle constructed by a length\n",
    "and width and the method which will compute the area of the\n",
    "rectangle?"
   ]
  },
  {
   "cell_type": "code",
   "execution_count": 20,
   "metadata": {},
   "outputs": [],
   "source": [
    "class rectangle:\n",
    "    \n",
    "    def __init__(self,length,breadth):\n",
    "        self.length  = length\n",
    "        self.breadth = breadth\n",
    "        \n",
    "    def area(self):\n",
    "        return ( (self.length * self.breadth) )"
   ]
  },
  {
   "cell_type": "code",
   "execution_count": 21,
   "metadata": {},
   "outputs": [
    {
     "data": {
      "text/plain": [
       "50"
      ]
     },
     "execution_count": 21,
     "metadata": {},
     "output_type": "execute_result"
    }
   ],
   "source": [
    "a = rectangle(10,5)\n",
    "a.area()"
   ]
  },
  {
   "cell_type": "markdown",
   "metadata": {},
   "source": [
    "Q10. Write the Python class named Circle constructed by the radius\n",
    "and two methods which will compute the area and perimeter of\n",
    "the circle?"
   ]
  },
  {
   "cell_type": "code",
   "execution_count": 22,
   "metadata": {},
   "outputs": [],
   "source": [
    "class circle:\n",
    "    \n",
    "    def __init__(self,radius):\n",
    "        self.r  = radius\n",
    "        \n",
    "    def area(self):\n",
    "        return (   (self.r ** 2) * 22/7.0  )\n",
    "    \n",
    "    def perimeter(self):\n",
    "        return (   (self.r * 2) * 22/7.0  )"
   ]
  },
  {
   "cell_type": "code",
   "execution_count": 23,
   "metadata": {},
   "outputs": [
    {
     "name": "stdout",
     "output_type": "stream",
     "text": [
      "Circle Area:  154.0\n",
      "Circle Perimeter:  44.0\n"
     ]
    }
   ],
   "source": [
    "a = circle(7)\n",
    "print(\"Circle Area: \", a.area())\n",
    "print(\"Circle Perimeter: \", a.perimeter())"
   ]
  },
  {
   "cell_type": "markdown",
   "metadata": {},
   "source": [
    "Q11. Write the Python program to get the class name of an instance in\n",
    "Python?"
   ]
  },
  {
   "cell_type": "code",
   "execution_count": 24,
   "metadata": {},
   "outputs": [
    {
     "name": "stdout",
     "output_type": "stream",
     "text": [
      "True\n",
      "<__main__.circle object at 0x00000169A91E1198>\n"
     ]
    }
   ],
   "source": [
    "a = circle(7)\n",
    "\n",
    "print(isinstance(a,circle))\n",
    "print(a.__str__())"
   ]
  },
  {
   "cell_type": "markdown",
   "metadata": {},
   "source": [
    "Q12. Write the Python program to count the number of students of\n",
    "individual class?\n",
    "\n",
    "    Sample dataclasses = (\n",
    "    ('V', 1),\n",
    "    ('VI', 1),\n",
    "    ('V', 2),\n",
    "    ('VI', 2),\n",
    "    ('VI', 3),\n",
    "    ('VII', 1),\n",
    "    )\n",
    "    Expected OutputCounter({'VI': 3, 'V': 2, 'VII': 1})"
   ]
  },
  {
   "cell_type": "code",
   "execution_count": 1,
   "metadata": {},
   "outputs": [
    {
     "data": {
      "text/plain": [
       "Counter({'V': 2, 'VI': 3, 'VII': 1})"
      ]
     },
     "execution_count": 1,
     "metadata": {},
     "output_type": "execute_result"
    }
   ],
   "source": [
    "from collections import Counter\n",
    "\n",
    "Class_Data = [\n",
    "('V', 1),\n",
    "('VI', 1),\n",
    "('V', 2),\n",
    "('VI', 2),\n",
    "('VI', 3),\n",
    "('VII', 1)\n",
    "]\n",
    "\n",
    "Students_by_Class = Counter(Class for Class, Students in Class_Data)\n",
    "Students_by_Class"
   ]
  },
  {
   "cell_type": "markdown",
   "metadata": {},
   "source": [
    "## Great Job!"
   ]
  }
 ],
 "metadata": {
  "kernelspec": {
   "display_name": "Python 3",
   "language": "python",
   "name": "python3"
  },
  "language_info": {
   "codemirror_mode": {
    "name": "ipython",
    "version": 3
   },
   "file_extension": ".py",
   "mimetype": "text/x-python",
   "name": "python",
   "nbconvert_exporter": "python",
   "pygments_lexer": "ipython3",
   "version": "3.7.6"
  }
 },
 "nbformat": 4,
 "nbformat_minor": 2
}

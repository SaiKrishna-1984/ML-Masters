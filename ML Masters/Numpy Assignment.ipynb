{
 "cells": [
  {
   "cell_type": "markdown",
   "metadata": {},
   "source": [
    "# Numpy Assignment"
   ]
  },
  {
   "cell_type": "markdown",
   "metadata": {},
   "source": [
    "## Problem Statement"
   ]
  },
  {
   "cell_type": "markdown",
   "metadata": {},
   "source": [
    "Q.1 Given a sequence of n values x1, x2, ..., xn and a window size k>0, the k-th moving average of the given sequence is defined as follows:\n",
    "\n",
    "The moving average sequence has n-k+1 elements as shown below.\n",
    "The moving averages with k=4 of a ten-value sequence (n=10) is shown below\n",
    "\n",
    "    i 1 2 3 4 5 6 7 8 9 10\n",
    "    ===== == == == == == == == == == ==\n",
    "    Input 10 20 30 40 50 60 70 80 90 100\n",
    "    y1 25 = (10+20+30+40)/4\n",
    "    y2 35 = (20+30+40+50)/4\n",
    "    y3 45 = (30+40+50+60)/4\n",
    "    y4 55 = (40+50+60+70)/4\n",
    "    y5 65 = (50+60+70+80)/4\n",
    "    y6 75 = (60+70+80+90)/4\n",
    "    y7 85 = (70+80+90+100)/4\n",
    "\n",
    "Thus, the moving average sequence has n-k+1=10-4+1=7 values.\n",
    "\n",
    "Write a function to find moving average in an array over a window:\n",
    "\n",
    "Test it over [3, 5, 7, 2, 8, 10, 11, 65, 72, 81, 99, 100, 150] and window of 3."
   ]
  },
  {
   "cell_type": "code",
   "execution_count": 1,
   "metadata": {},
   "outputs": [],
   "source": [
    "def Mov_Avg(List, k):\n",
    "    Total_Val = len(List) - k + 1\n",
    "    \n",
    "    #List = sorted(List) ---------------> If Avg to be displayed in sorted manner\n",
    "    \n",
    "    print(\"Given List: \", List)\n",
    "    for i in range(Total_Val):\n",
    "        Avg_Val = 0\n",
    "        for Val in List[i:i+k]:\n",
    "            Avg_Val += Val\n",
    "        print(\"y\" + str(i+1) +  \"\\t\" + str( round((Avg_Val/k),2) ))    "
   ]
  },
  {
   "cell_type": "code",
   "execution_count": 2,
   "metadata": {},
   "outputs": [
    {
     "name": "stdout",
     "output_type": "stream",
     "text": [
      "Given List:  [10, 20, 30, 40, 50, 60, 70, 80, 90, 100]\n",
      "y1\t25.0\n",
      "y2\t35.0\n",
      "y3\t45.0\n",
      "y4\t55.0\n",
      "y5\t65.0\n",
      "y6\t75.0\n",
      "y7\t85.0\n"
     ]
    }
   ],
   "source": [
    "List = [10, 20, 30, 40, 50, 60, 70, 80, 90, 100]\n",
    "k = 4\n",
    "\n",
    "Mov_Avg(List, k)"
   ]
  },
  {
   "cell_type": "code",
   "execution_count": 3,
   "metadata": {},
   "outputs": [
    {
     "name": "stdout",
     "output_type": "stream",
     "text": [
      "Given List:  [3, 5, 7, 2, 8, 10, 11, 65, 72, 81, 99, 100, 150]\n",
      "y1\t5.0\n",
      "y2\t4.67\n",
      "y3\t5.67\n",
      "y4\t6.67\n",
      "y5\t9.67\n",
      "y6\t28.67\n",
      "y7\t49.33\n",
      "y8\t72.67\n",
      "y9\t84.0\n",
      "y10\t93.33\n",
      "y11\t116.33\n"
     ]
    }
   ],
   "source": [
    "List = [3, 5, 7, 2, 8, 10, 11, 65, 72, 81, 99, 100, 150]\n",
    "k = 3\n",
    "\n",
    "Mov_Avg(List, k)"
   ]
  },
  {
   "cell_type": "markdown",
   "metadata": {},
   "source": [
    "## Using Numpy"
   ]
  },
  {
   "cell_type": "code",
   "execution_count": 4,
   "metadata": {},
   "outputs": [],
   "source": [
    "import numpy as np\n",
    "def np_Mov_Avg(List, k) :\n",
    "    tList = list(np.cumsum(List, dtype=float))\n",
    "\n",
    "    for i in range(k-1, len(List)):\n",
    "        if (i-k) > 0:\n",
    "            print(\"y\" + str(i-k+2) + \"\\t\" + str( round(( (tList[i] - tList[i-k])/k),2) ))  \n",
    "        else:\n",
    "            print(\"y\" + str(i-k+2) + \"\\t\" + str( round(( tList[i] /k),2) ))  "
   ]
  },
  {
   "cell_type": "code",
   "execution_count": 5,
   "metadata": {},
   "outputs": [
    {
     "name": "stdout",
     "output_type": "stream",
     "text": [
      "y1\t25.0\n",
      "y2\t37.5\n",
      "y3\t45.0\n",
      "y4\t55.0\n",
      "y5\t65.0\n",
      "y6\t75.0\n",
      "y7\t85.0\n"
     ]
    }
   ],
   "source": [
    "List = [10, 20, 30, 40, 50, 60, 70, 80, 90, 100]\n",
    "k = 4\n",
    "\n",
    "np_Mov_Avg(List, k)"
   ]
  },
  {
   "cell_type": "code",
   "execution_count": 6,
   "metadata": {},
   "outputs": [
    {
     "name": "stdout",
     "output_type": "stream",
     "text": [
      "y1\t5.0\n",
      "y2\t5.67\n",
      "y3\t5.67\n",
      "y4\t6.67\n",
      "y5\t9.67\n",
      "y6\t28.67\n",
      "y7\t49.33\n",
      "y8\t72.67\n",
      "y9\t84.0\n",
      "y10\t93.33\n",
      "y11\t116.33\n"
     ]
    }
   ],
   "source": [
    "List = [3, 5, 7, 2, 8, 10, 11, 65, 72, 81, 99, 100, 150]\n",
    "k = 3\n",
    "\n",
    "np_Mov_Avg(List, k)"
   ]
  }
 ],
 "metadata": {
  "kernelspec": {
   "display_name": "Python 3",
   "language": "python",
   "name": "python3"
  },
  "language_info": {
   "codemirror_mode": {
    "name": "ipython",
    "version": 3
   },
   "file_extension": ".py",
   "mimetype": "text/x-python",
   "name": "python",
   "nbconvert_exporter": "python",
   "pygments_lexer": "ipython3",
   "version": "3.7.6"
  }
 },
 "nbformat": 4,
 "nbformat_minor": 2
}

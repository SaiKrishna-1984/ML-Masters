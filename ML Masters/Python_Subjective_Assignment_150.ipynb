{
 "cells": [
  {
   "cell_type": "markdown",
   "metadata": {},
   "source": [
    "Q1. Write a Python program to get the string from the given string where\n",
    "all the occurrence of its first char has been changed to '$,' except first\n",
    "char itself?\n",
    "\n",
    "    Sample String: 'prospect'\n",
    "    Expected Result : 'pros$ect'\n"
   ]
  },
  {
   "cell_type": "code",
   "execution_count": 1,
   "metadata": {},
   "outputs": [
    {
     "name": "stdout",
     "output_type": "stream",
     "text": [
      "$ros$ect\n"
     ]
    },
    {
     "data": {
      "text/plain": [
       "'pros$ect'"
      ]
     },
     "execution_count": 1,
     "metadata": {},
     "output_type": "execute_result"
    }
   ],
   "source": [
    "def chg_firstCharOcc(S, toChar):\n",
    "    R_S = S.replace(S[0], toChar)\n",
    "    print(R_S)\n",
    "    New_S = S[0] + R_S[1:]\n",
    "    return New_S\n",
    "\n",
    "S = 'prospect'\n",
    "chg_firstCharOcc(S, '$')"
   ]
  },
  {
   "cell_type": "code",
   "execution_count": 2,
   "metadata": {},
   "outputs": [
    {
     "name": "stdout",
     "output_type": "stream",
     "text": [
      "$ucce$$ful $uper$tar\n"
     ]
    },
    {
     "data": {
      "text/plain": [
       "'succe$$ful $uper$tar'"
      ]
     },
     "execution_count": 2,
     "metadata": {},
     "output_type": "execute_result"
    }
   ],
   "source": [
    "S = 'successful superstar'\n",
    "chg_firstCharOcc(S, '$')"
   ]
  },
  {
   "cell_type": "markdown",
   "metadata": {},
   "source": [
    "Q2. Write a Python program to get the single string from the two given\n",
    "strings, and separated by the space and swap the first two characters of\n",
    "each string?\n",
    "\n",
    "    Sample String : 'abc', 'xyz'.\n",
    "    Expected Result: 'xyc abz'"
   ]
  },
  {
   "cell_type": "code",
   "execution_count": 3,
   "metadata": {},
   "outputs": [
    {
     "data": {
      "text/plain": [
       "'xyc abz'"
      ]
     },
     "execution_count": 3,
     "metadata": {},
     "output_type": "execute_result"
    }
   ],
   "source": [
    "def swap(List):\n",
    "    k = List[0][:2]\n",
    "    List[0] = List[1][:2] + List[0][2:]\n",
    "    List[1] = k + List[1][2:]\n",
    "\n",
    "    return List[0] + ' ' + List[1]\n",
    "\n",
    "List = ['abc','xyz']\n",
    "swap(List)"
   ]
  },
  {
   "cell_type": "markdown",
   "metadata": {},
   "source": [
    "Q3. Write the Python program to add 'ing' at the end of the given string\n",
    "(length of the string should be at least 3). If given string already ends\n",
    "with 'ing,' then add 'ly' instead. If string length of the given string is less\n",
    "than 3, leave it unchanged?\n",
    "\n",
    "\n",
    "    Sample string: ' abc '\n",
    "    Expected result: ' abcing '\n",
    "    Sample string: ' string '\n",
    "    Expected result: ' stringly '\n"
   ]
  },
  {
   "cell_type": "code",
   "execution_count": 4,
   "metadata": {},
   "outputs": [
    {
     "name": "stdout",
     "output_type": "stream",
     "text": [
      "abc    -->  abcing\n",
      "string -->  stringly\n",
      "he     -->  he\n"
     ]
    }
   ],
   "source": [
    "def swap(stringmap):\n",
    "    if len(stringmap) < 3:\n",
    "        S = stringmap\n",
    "    elif stringmap[-3:] == 'ing':\n",
    "        S = stringmap + 'ly'\n",
    "    else:\n",
    "        S = stringmap + 'ing'  \n",
    "\n",
    "    return S\n",
    "\n",
    "print('abc    --> ', swap('abc'))\n",
    "print('string --> ', swap('string'))\n",
    "print('he     --> ', swap('he'))"
   ]
  },
  {
   "cell_type": "markdown",
   "metadata": {},
   "source": [
    "Q4. Write the Python program to find the first appearance of the\n",
    "substring 'not' and 'poor' from the given string, if 'not' follows the 'poor',\n",
    "replace the whole 'not'...' poor' substring with 'good'.Return the resulting\n",
    "string.\n",
    "\n",
    "    Sample string: 'The lyrics are not that poor!'\n",
    "    'The lyrics are poor!'\n",
    "    Expected Result: 'The lyrics are good!'\n",
    "    'The lyrics are poor!'"
   ]
  },
  {
   "cell_type": "code",
   "execution_count": 5,
   "metadata": {},
   "outputs": [],
   "source": [
    "def replWords(sample):\n",
    "    i = sample.find('not')\n",
    "    k = sample.find('poor')\n",
    "    NewStr = sample\n",
    "    \n",
    "    if i > 0 and k > 0 and i < k:\n",
    "        NewStr = sample[:i] +  'good' + sample[k+4:] \n",
    "\n",
    "    return NewStr    "
   ]
  },
  {
   "cell_type": "code",
   "execution_count": 6,
   "metadata": {},
   "outputs": [
    {
     "data": {
      "text/plain": [
       "'The lyrics are good!'"
      ]
     },
     "execution_count": 6,
     "metadata": {},
     "output_type": "execute_result"
    }
   ],
   "source": [
    "sample = 'The lyrics are not that poor!'\n",
    "replWords(sample)"
   ]
  },
  {
   "cell_type": "code",
   "execution_count": 7,
   "metadata": {},
   "outputs": [
    {
     "data": {
      "text/plain": [
       "'The lyrics are poor!'"
      ]
     },
     "execution_count": 7,
     "metadata": {},
     "output_type": "execute_result"
    }
   ],
   "source": [
    "sample = 'The lyrics are poor!'\n",
    "replWords(sample)"
   ]
  },
  {
   "cell_type": "markdown",
   "metadata": {},
   "source": [
    "Q5. Write the Python program to remove the characters which have odd\n",
    "index values of a given string."
   ]
  },
  {
   "cell_type": "code",
   "execution_count": 8,
   "metadata": {},
   "outputs": [],
   "source": [
    "def removeOdd(sample):\n",
    "    Length = len(sample)\n",
    "    NewStr = ''\n",
    "    \n",
    "    for i in range(0, Length, 2):\n",
    "        NewStr =  NewStr + sample[i]\n",
    "\n",
    "    return NewStr "
   ]
  },
  {
   "cell_type": "code",
   "execution_count": 9,
   "metadata": {},
   "outputs": [
    {
     "data": {
      "text/plain": [
       "'Telrc r od'"
      ]
     },
     "execution_count": 9,
     "metadata": {},
     "output_type": "execute_result"
    }
   ],
   "source": [
    "sample = 'The lyrics are good!'\n",
    "removeOdd(sample)"
   ]
  },
  {
   "cell_type": "markdown",
   "metadata": {},
   "source": [
    "Q6. Write the python program to print the following floating numbers up\n",
    "to 2 decimal places?"
   ]
  },
  {
   "cell_type": "code",
   "execution_count": 10,
   "metadata": {},
   "outputs": [
    {
     "name": "stdout",
     "output_type": "stream",
     "text": [
      "Base List:  [0.3475, 3.1429365, 8.5556, 98.68643, 432.682389]\n",
      "Result List:  [0.35, 3.14, 8.56, 98.69, 432.68]\n"
     ]
    }
   ],
   "source": [
    "NumList = [0.3475, 3.1429365, 8.5556, 98.68643, 432.682389]\n",
    "ResList = list(map(lambda x: round(x,2), NumList))\n",
    "\n",
    "print('Base List: ', NumList )\n",
    "print('Result List: ', ResList )"
   ]
  },
  {
   "cell_type": "markdown",
   "metadata": {},
   "source": [
    "Q7. Write the python function to get a string made of its first three\n",
    "characters of a specified string. If the length of the string is less than 3\n",
    "then return the original string.\n",
    "\n",
    "Sample function and result :\n",
    "- first-three('ipy') -> ipy\n",
    "- first-three('python') -> pyt"
   ]
  },
  {
   "cell_type": "code",
   "execution_count": 11,
   "metadata": {},
   "outputs": [
    {
     "name": "stdout",
     "output_type": "stream",
     "text": [
      "abc    -->  ipy\n",
      "string -->  pyt\n"
     ]
    }
   ],
   "source": [
    "def string_3cut(stringinp):\n",
    "    if len(stringinp) < 3:\n",
    "        S = stringinp\n",
    "    else:\n",
    "        S = stringinp[:3]\n",
    "\n",
    "    return S\n",
    "\n",
    "print('abc    --> ', string_3cut('ipy'))\n",
    "print('string --> ', string_3cut('python'))"
   ]
  },
  {
   "cell_type": "markdown",
   "metadata": {},
   "source": [
    "Q8. Write the python program to print the following floating numbers up\n",
    "to 2 decimal places?"
   ]
  },
  {
   "cell_type": "code",
   "execution_count": 12,
   "metadata": {},
   "outputs": [
    {
     "name": "stdout",
     "output_type": "stream",
     "text": [
      "Base List:  [0.3475, 3.1429365, 8.5556, 9.68643, 3.682389]\n",
      "Result List:  ['0.35', '3.1', '8.6', '9.7', '3.7']\n"
     ]
    }
   ],
   "source": [
    "NumList = [0.3475, 3.1429365, 8.5556, 9.68643, 3.682389]\n",
    "ResList = list(map(lambda x: \"{:.2}\".format(x), NumList))\n",
    "\n",
    "\n",
    "print('Base List: ', NumList )\n",
    "print('Result List: ', ResList )"
   ]
  },
  {
   "cell_type": "markdown",
   "metadata": {},
   "source": [
    "Q9. Write the Python program to format a number with a percentage?"
   ]
  },
  {
   "cell_type": "code",
   "execution_count": 13,
   "metadata": {},
   "outputs": [
    {
     "name": "stdout",
     "output_type": "stream",
     "text": [
      "Base List:  [0.3475, 3.1429365, 8.5556, 9.68643, 3.682389]\n",
      "Result List:  ['34.750000%', '314.293650%', '855.560000%', '968.643000%', '368.238900%']\n"
     ]
    }
   ],
   "source": [
    "NumList = [0.3475, 3.1429365, 8.5556, 9.68643, 3.682389]\n",
    "ResList = list(map(lambda x: \"{:%}\".format(x), NumList))\n",
    "\n",
    "\n",
    "print('Base List: ', NumList )\n",
    "print('Result List: ', ResList )"
   ]
  },
  {
   "cell_type": "markdown",
   "metadata": {},
   "source": [
    "Q10. Write the Python program to count occurrences of a substring in a\n",
    "String?"
   ]
  },
  {
   "cell_type": "code",
   "execution_count": 14,
   "metadata": {},
   "outputs": [],
   "source": [
    "def countOccs(word,sample):\n",
    "    k = sample.count(word)\n",
    "    return k "
   ]
  },
  {
   "cell_type": "code",
   "execution_count": 15,
   "metadata": {},
   "outputs": [
    {
     "data": {
      "text/plain": [
       "3"
      ]
     },
     "execution_count": 15,
     "metadata": {},
     "output_type": "execute_result"
    }
   ],
   "source": [
    "countOccs('apple', 'An apple costs 25INR in India.But, an apple costs 20 cents in UK. Doctor says to eat an apple a day to stay healthy')"
   ]
  },
  {
   "cell_type": "markdown",
   "metadata": {},
   "source": [
    "Q11. Write the Python program to count repeated characters in a string.\n",
    "\n",
    "    Sample string: ' thequickbrownjumpsoverthelazydog '\n",
    "    \n",
    "    Expected output:\n",
    "    o 3\n",
    "    e 3\n",
    "    u 2\n",
    "    h 2\n",
    "    r 2\n",
    "    t 2"
   ]
  },
  {
   "cell_type": "code",
   "execution_count": 16,
   "metadata": {},
   "outputs": [],
   "source": [
    "def CountRepeatChars(sample):\n",
    "    string = [char for char in sample]\n",
    "    \n",
    "    List = []\n",
    "    for i in string:\n",
    "        k = string.count(i)\n",
    "        if k > 1 and i != ' ' and List.count(i) == 0:\n",
    "            print(i + ' ' + str(k))\n",
    "            List.append(i)"
   ]
  },
  {
   "cell_type": "code",
   "execution_count": 17,
   "metadata": {},
   "outputs": [
    {
     "name": "stdout",
     "output_type": "stream",
     "text": [
      "t 2\n",
      "h 2\n",
      "e 3\n",
      "u 2\n",
      "r 2\n",
      "o 3\n"
     ]
    }
   ],
   "source": [
    "sample = ' thequickbrownjumpsoverthelazydog '\n",
    "CountRepeatChars(sample)"
   ]
  },
  {
   "cell_type": "markdown",
   "metadata": {},
   "source": [
    "Q12. Write the Python program to print the square and cube symbol in the area of a rectangle and volume of a cylinder?\n",
    "\n",
    "    Sample output\n",
    "    The area of the rectangle is 1256.66cm2\n",
    "    The volume of the cylinder is 1254.725cm3\n"
   ]
  },
  {
   "cell_type": "code",
   "execution_count": 18,
   "metadata": {},
   "outputs": [
    {
     "name": "stdout",
     "output_type": "stream",
     "text": [
      "The area of the rectangle is 1256.66cm²\n",
      "The volume of the cylinder is 1254.725cm³\n"
     ]
    }
   ],
   "source": [
    "area   = 1256.66\n",
    "volume = 1254.725\n",
    "\n",
    "decimals = 2\n",
    "print(\"The area of the rectangle is {0:.{1}f}cm\\u00b2\".format(area, decimals))\n",
    "\n",
    "decimals = 3\n",
    "print(\"The volume of the cylinder is {0:.{1}f}cm\\u00b3\".format(volume, decimals))"
   ]
  },
  {
   "cell_type": "markdown",
   "metadata": {},
   "source": [
    "Q13. Write the Python program to check if a string contains all letters of\n",
    "the alphabet?"
   ]
  },
  {
   "cell_type": "code",
   "execution_count": 19,
   "metadata": {},
   "outputs": [],
   "source": [
    "import string\n",
    "\n",
    "def ChkStrAllAlpha(sample):\n",
    "    alphabet = set(string.ascii_lowercase)\n",
    "    if (set(input_string.lower()) >= alphabet):\n",
    "        return True\n",
    "    else:\n",
    "        return False"
   ]
  },
  {
   "cell_type": "code",
   "execution_count": 20,
   "metadata": {},
   "outputs": [
    {
     "data": {
      "text/plain": [
       "True"
      ]
     },
     "execution_count": 20,
     "metadata": {},
     "output_type": "execute_result"
    }
   ],
   "source": [
    "input_string = 'The quick brown fox jumps over the lazy dog'\n",
    "\n",
    "\n",
    "ChkStrAllAlpha(input_string)"
   ]
  },
  {
   "cell_type": "code",
   "execution_count": 21,
   "metadata": {},
   "outputs": [
    {
     "name": "stdout",
     "output_type": "stream",
     "text": [
      "{'c', 'u', 'e', 't', 'm', 'd', 'z', 'r', ' ', 'b', 'a', 'x', 'k', 's', 'y', 'g', 'i', 'v', 'f', 'o', 'n', 'p', 'w', 'h', 'j', 'l', 'q'}\n"
     ]
    }
   ],
   "source": [
    "print( set(input_string.lower()) )"
   ]
  },
  {
   "cell_type": "code",
   "execution_count": 22,
   "metadata": {},
   "outputs": [
    {
     "data": {
      "text/plain": [
       "False"
      ]
     },
     "execution_count": 22,
     "metadata": {},
     "output_type": "execute_result"
    }
   ],
   "source": [
    "input_string = 'The quick brown fox jumps over the lazy cat'\n",
    "\n",
    "ChkStrAllAlpha(input_string)"
   ]
  },
  {
   "cell_type": "code",
   "execution_count": 23,
   "metadata": {},
   "outputs": [
    {
     "name": "stdout",
     "output_type": "stream",
     "text": [
      "{'c', 'u', 'e', 't', 'm', 'z', 'r', ' ', 'b', 'a', 'x', 'k', 's', 'y', 'i', 'v', 'f', 'o', 'n', 'p', 'w', 'h', 'j', 'l', 'q'}\n"
     ]
    }
   ],
   "source": [
    "print( set(input_string.lower()) )"
   ]
  },
  {
   "cell_type": "markdown",
   "metadata": {},
   "source": [
    "Q14. Write the Python program to find the second most repeated word\n",
    "in a given string?"
   ]
  },
  {
   "cell_type": "code",
   "execution_count": 24,
   "metadata": {},
   "outputs": [],
   "source": [
    "def ChkRepeatWords(sample):\n",
    "    sample = sample.lower()\n",
    "    \n",
    "    for punct in [\",\"  ,  '.'  ,  \"'\"  ,  \"!\"]: \n",
    "        sample = sample.replace(punct, ' ')\n",
    "    string = list(sample.split())\n",
    "    \n",
    "    \n",
    "    my_dict = {}\n",
    "    List = []\n",
    "    for i in string:\n",
    "        k = string.count(i)\n",
    "        if k > 1 and List.count(i) == 0:\n",
    "            my_dict[k] = i\n",
    "            List.append(i)\n",
    "    \n",
    "    print(my_dict) # THIS IS JUST FOR CLARITY - ALTHOUGH NOT IN REQUIREMENT - CAN BE REMOVED.\n",
    "    \n",
    "    k = 1\n",
    "    length = len(my_dict.keys())\n",
    "    for i in sorted (my_dict.keys()):\n",
    "        if k == length - 1:\n",
    "            return my_dict[i]\n",
    "        k = k+1"
   ]
  },
  {
   "cell_type": "code",
   "execution_count": 25,
   "metadata": {},
   "outputs": [
    {
     "name": "stdout",
     "output_type": "stream",
     "text": [
      "{5: 'i', 4: 'happy', 2: 'because'}\n"
     ]
    },
    {
     "data": {
      "text/plain": [
       "'happy'"
      ]
     },
     "execution_count": 25,
     "metadata": {},
     "output_type": "execute_result"
    }
   ],
   "source": [
    "S = \"I felt happy because I saw the others were happy and because I knew I should feel happy, but I wasn’t really happy.\"\n",
    "ChkRepeatWords(S)"
   ]
  },
  {
   "cell_type": "code",
   "execution_count": 26,
   "metadata": {},
   "outputs": [
    {
     "name": "stdout",
     "output_type": "stream",
     "text": [
      "{3: 'star', 2: 'and', 4: 'a'}\n"
     ]
    },
    {
     "data": {
      "text/plain": [
       "'star'"
      ]
     },
     "execution_count": 26,
     "metadata": {},
     "output_type": "execute_result"
    }
   ],
   "source": [
    "S =  \"Every person had a star, every star had a friend, and for every person carrying a star there was someone else who reflected it, and everyone carried this reflection like a secret confidante in the heart.\"\n",
    "ChkRepeatWords(S)"
   ]
  },
  {
   "cell_type": "markdown",
   "metadata": {},
   "source": [
    "Q15. Write the Python program to find the minimum window in the given\n",
    "string, which will contains all the characters of another given\n",
    "strings?\n",
    "\n",
    "    Example 1\n",
    "    Input : string1 = \" PRWSOERIUSFK \"\n",
    "    string2 = \" OSU \"\n",
    "    Output: Minimum window is \"OERIUS\""
   ]
  },
  {
   "cell_type": "code",
   "execution_count": 27,
   "metadata": {},
   "outputs": [],
   "source": [
    "def CalcMinWindow(sample,search):\n",
    "    string    = sample.upper()\n",
    "    search    = set(search.upper())\n",
    "    length    = len(string)\n",
    "    search.remove(' ')\n",
    "\n",
    "    # First Dictionary - to get positions of all unique characters of MinWindow-Chars\n",
    "    my_dict = {}\n",
    "    for letter in search:\n",
    "        letter_count = string.count(letter)\n",
    "        position     = string.find(letter)\n",
    "        for i in range(0, letter_count):\n",
    "            my_dict[position] = letter\n",
    "            position     = string.find(letter, position+1 , length)\n",
    "                \n",
    "    print(\"Search Char Positions: \", sorted (my_dict.items() ) )   # -- Printing Just for Reference\n",
    "\n",
    "   \n",
    "    window    = {}\n",
    "    positions = []\n",
    "    key_list = list(sorted (my_dict.keys() ))\n",
    "    j = 0\n",
    "        \n",
    "    # Second Dictionary - to get start and end positions and length of window    \n",
    "    for i in key_list:\n",
    "    \n",
    "        tmp_set   = set()\n",
    "        start_pos = 0\n",
    "        end_pos   = 0\n",
    "        \n",
    "        for k in key_list[j:]:\n",
    "            \n",
    "            if start_pos == 0:\n",
    "                start_pos = k\n",
    "        \n",
    "            if my_dict[k] not in tmp_set:\n",
    "                tmp_set.add(my_dict[k])      \n",
    "        \n",
    "            if tmp_set == search and end_pos == 0:\n",
    "                end_pos = k\n",
    "                positions =  [start_pos,end_pos]\n",
    "                window[end_pos-start_pos] = positions\n",
    "                j = j+1                 \n",
    "    \n",
    "    print(\"Min Window length and Char Positions: \", sorted (window.items() ))\n",
    " \n",
    "    # Read Dictionary - to return least window   \n",
    "    for itm in sorted (window.items() ):\n",
    "        key,pos_list = itm\n",
    "        return sample[ pos_list[0]:pos_list[1]+1 ]\n",
    "        "
   ]
  },
  {
   "cell_type": "code",
   "execution_count": 28,
   "metadata": {},
   "outputs": [
    {
     "name": "stdout",
     "output_type": "stream",
     "text": [
      "Search Char Positions:  [(4, 'S'), (5, 'O'), (9, 'U'), (10, 'S')]\n",
      "Min Window length and Char Positions:  [(5, [5, 10])]\n"
     ]
    },
    {
     "data": {
      "text/plain": [
       "'OERIUS'"
      ]
     },
     "execution_count": 28,
     "metadata": {},
     "output_type": "execute_result"
    }
   ],
   "source": [
    "Input  = \" PRWSOERIUSFK \"\n",
    "search = \" OSU \"\n",
    "\n",
    "\n",
    "#Output: Minimum window is \"OERIUS\"\n",
    "CalcMinWindow(Input, search )"
   ]
  },
  {
   "cell_type": "code",
   "execution_count": 29,
   "metadata": {},
   "outputs": [
    {
     "name": "stdout",
     "output_type": "stream",
     "text": [
      "Search Char Positions:  [(4, 'S'), (5, 'O'), (9, 'U'), (11, 'S')]\n",
      "Min Window length and Char Positions:  [(5, [4, 9]), (6, [5, 11])]\n"
     ]
    },
    {
     "data": {
      "text/plain": [
       "'SOERIU'"
      ]
     },
     "execution_count": 29,
     "metadata": {},
     "output_type": "execute_result"
    }
   ],
   "source": [
    "Input  = \" PRWSOERIUFSFK \"  # Changed string.\n",
    "search = \" OSU \"\n",
    "\n",
    "\n",
    "#Output: Minimum window is \"OERIUS\"\n",
    "CalcMinWindow(Input, search)"
   ]
  },
  {
   "cell_type": "markdown",
   "metadata": {},
   "source": [
    "Q16. Write the Python program to find smallest window that contains all characters of the given string?\n",
    "\n",
    "Original Strings:asdaewsqgtwwsa\n",
    "\n",
    "Smallest window that contains all characters of the said string: daewsqgt"
   ]
  },
  {
   "cell_type": "code",
   "execution_count": 30,
   "metadata": {},
   "outputs": [],
   "source": [
    "def Cal_MinWdw_String(str): \n",
    "    str_len = len(str) \n",
    "      \n",
    "    # Distinct characters. \n",
    "    dist_char_len = len(set(str))\n",
    "  \n",
    "    # Get all string-windows with all distict characters \n",
    "    List_Wdws = []\n",
    "    for i in range(str_len): \n",
    "        for k in range(str_len-dist_char_len):\n",
    "            if set(str) == set(str[i:(k+dist_char_len)]):\n",
    "                List_Wdws.append(str[i:(k+dist_char_len)])\n",
    "    \n",
    "    sorted_list = list(sorted(List_Wdws, key = len))\n",
    "\n",
    "    return sorted_list[0]"
   ]
  },
  {
   "cell_type": "code",
   "execution_count": 31,
   "metadata": {},
   "outputs": [
    {
     "name": "stdout",
     "output_type": "stream",
     "text": [
      "Original Strings:\n",
      " asdaewsqgtwwsa\n",
      "\n",
      "Smallest window that contains all characters of the said string:\n",
      "daewsqgt\n"
     ]
    }
   ],
   "source": [
    "str1 = \"asdaewsqgtwwsa\"\n",
    "print(\"Original Strings:\\n\",str1)\n",
    "print(\"\\nSmallest window that contains all characters of the said string:\")\n",
    "print( Cal_MinWdw_String(str1)) "
   ]
  },
  {
   "cell_type": "markdown",
   "metadata": {},
   "source": [
    "Q17. Write the Python program to count number of substrings from a\n",
    "given string of lowercase alphabets with exactly k distinct (given)\n",
    "characters?\n",
    "\n",
    "    Input a string (lowercase alphabets): wolf\n",
    "    Input k: 4\n",
    "    Number of substrings with exactly 4 distinct characters: 1"
   ]
  },
  {
   "cell_type": "code",
   "execution_count": 32,
   "metadata": {},
   "outputs": [],
   "source": [
    "def CountSubstr(main_string,cnt):\n",
    "    main_string = main_string.lower()\n",
    "    str_set = set(main_string)\n",
    "    \n",
    "    \n",
    "    if len(main_string) == len(str_set) and len(main_string) == cnt:\n",
    "        return 1\n",
    "    elif cnt > len(str_set):\n",
    "        return 0\n",
    "    elif cnt < len(str_set):\n",
    "        \n",
    "        j = 0\n",
    "        for i in range(0,len(main_string)):\n",
    "            sub_str = main_string[i:]\n",
    "            tmp_set = set()\n",
    "            \n",
    "            for letter in sub_str:\n",
    "                \n",
    "                if letter in tmp_set:\n",
    "                    tmp_set = set()\n",
    "                    continue\n",
    "        \n",
    "                if letter not in tmp_set:\n",
    "                    tmp_set.add(letter)      \n",
    "        \n",
    "                if len(tmp_set) == cnt:\n",
    "                    j = j+1  \n",
    "                    tmp_set = set()\n",
    "                    break\n",
    "        return j"
   ]
  },
  {
   "cell_type": "code",
   "execution_count": 33,
   "metadata": {},
   "outputs": [
    {
     "data": {
      "text/plain": [
       "1"
      ]
     },
     "execution_count": 33,
     "metadata": {},
     "output_type": "execute_result"
    }
   ],
   "source": [
    "Input  = \"wolf\"\n",
    "Cnt = 4\n",
    "\n",
    "CountSubstr(Input, Cnt )"
   ]
  },
  {
   "cell_type": "code",
   "execution_count": 34,
   "metadata": {},
   "outputs": [
    {
     "data": {
      "text/plain": [
       "0"
      ]
     },
     "execution_count": 34,
     "metadata": {},
     "output_type": "execute_result"
    }
   ],
   "source": [
    "Input  = \"wolfs\"\n",
    "Cnt = 6\n",
    "\n",
    "CountSubstr(Input, Cnt )"
   ]
  },
  {
   "cell_type": "code",
   "execution_count": 35,
   "metadata": {},
   "outputs": [
    {
     "data": {
      "text/plain": [
       "3"
      ]
     },
     "execution_count": 35,
     "metadata": {},
     "output_type": "execute_result"
    }
   ],
   "source": [
    "Input  = \"hatsoff\"\n",
    "Cnt = 4\n",
    "\n",
    "CountSubstr(Input, Cnt )"
   ]
  },
  {
   "cell_type": "markdown",
   "metadata": {},
   "source": [
    "Q18:  Write the Python program to count number of non-empty\n",
    "substrings of the given string?"
   ]
  },
  {
   "cell_type": "code",
   "execution_count": 36,
   "metadata": {},
   "outputs": [],
   "source": [
    "def NonEmpty_Count(str):\n",
    "    n = len(str)\n",
    "\n",
    "    return 0.5*n*(n+1)"
   ]
  },
  {
   "cell_type": "code",
   "execution_count": 37,
   "metadata": {},
   "outputs": [
    {
     "data": {
      "text/plain": [
       "55.0"
      ]
     },
     "execution_count": 37,
     "metadata": {},
     "output_type": "execute_result"
    }
   ],
   "source": [
    "Input_String = 'w3resource'\n",
    "NonEmpty_Count(Input_String)"
   ]
  },
  {
   "cell_type": "markdown",
   "metadata": {},
   "source": [
    "Q19. Write the Python program to count number of substrings with same\n",
    "first and last characters of the given string?\n",
    "\n",
    "    Input a string: abcd\n",
    "    4\n"
   ]
  },
  {
   "cell_type": "code",
   "execution_count": 38,
   "metadata": {},
   "outputs": [],
   "source": [
    "def CountSubstr(main_string):\n",
    "    main_string = main_string.lower()\n",
    "    str_set = set(main_string)\n",
    "           \n",
    "    j = 0\n",
    "    for i in range(0,len(main_string)):\n",
    "        sub_str = main_string[i:]\n",
    "            \n",
    "        for letter in sub_str:              \n",
    "            if letter == sub_str[0]:\n",
    "                j = j+1\n",
    "    return j"
   ]
  },
  {
   "cell_type": "code",
   "execution_count": 39,
   "metadata": {},
   "outputs": [
    {
     "data": {
      "text/plain": [
       "4"
      ]
     },
     "execution_count": 39,
     "metadata": {},
     "output_type": "execute_result"
    }
   ],
   "source": [
    "Input  = \"abcd\"\n",
    "\n",
    "CountSubstr(Input)"
   ]
  },
  {
   "cell_type": "code",
   "execution_count": 40,
   "metadata": {},
   "outputs": [
    {
     "data": {
      "text/plain": [
       "7"
      ]
     },
     "execution_count": 40,
     "metadata": {},
     "output_type": "execute_result"
    }
   ],
   "source": [
    "Input  = \"ramam\"\n",
    "\n",
    "CountSubstr(Input)"
   ]
  },
  {
   "cell_type": "markdown",
   "metadata": {},
   "source": [
    "Q20. Write the Python program to count the number of strings where the\n",
    "string length is 2 or more, and first and last character are same\n",
    "from a given list of strings.\n",
    "- Sample List : ['abc', 'xyz', 'wxw', '1331']\n",
    "- Expected Result: 2"
   ]
  },
  {
   "cell_type": "code",
   "execution_count": 41,
   "metadata": {},
   "outputs": [],
   "source": [
    "def CountSubstr(Sample_List):   \n",
    "    j = 0\n",
    "    for elem in Sample_List:           \n",
    "        if len(elem) >=2 and elem[0] == elem[-1]:\n",
    "            j = j+1\n",
    "    return j"
   ]
  },
  {
   "cell_type": "code",
   "execution_count": 42,
   "metadata": {},
   "outputs": [
    {
     "data": {
      "text/plain": [
       "2"
      ]
     },
     "execution_count": 42,
     "metadata": {},
     "output_type": "execute_result"
    }
   ],
   "source": [
    "Sample_List = ['abc', 'xyz', 'wxw', '1331']\n",
    "CountSubstr(Sample_List)"
   ]
  },
  {
   "cell_type": "markdown",
   "metadata": {},
   "source": [
    "Q21. Write the Python program to get a list, sorted in increasing order by\n",
    "the last element in each tuple from the given list of non-empty\n",
    "tuples?\n",
    "- Sample List - [ (2, 5), (1, 2), (4, 4), (2, 3), (2, 1) ]\n",
    "- Expected Result - [ (2, 1), (1, 2), (2, 3), (4, 4), (2, 5) ]"
   ]
  },
  {
   "cell_type": "code",
   "execution_count": 43,
   "metadata": {},
   "outputs": [],
   "source": [
    "def sort_list_tuple(sample_list):\n",
    "    \n",
    "    sorted_list = []\n",
    "    \n",
    "    elements = len(sample_list)\n",
    "    \n",
    "    for iteration in range(0,elements):\n",
    "        i = 0\n",
    "        for item in sample_list:\n",
    "            if i == 0:\n",
    "                sm_item = item\n",
    "                i = 1\n",
    "            if sm_item[1] > item[1]:\n",
    "                sm_item = item\n",
    "      \n",
    "        sample_list.remove(sm_item)\n",
    "        sorted_list.append(sm_item)    \n",
    "    \n",
    "    return (sorted_list)\n",
    "    "
   ]
  },
  {
   "cell_type": "code",
   "execution_count": 44,
   "metadata": {},
   "outputs": [
    {
     "data": {
      "text/plain": [
       "[(2, 1), (1, 2), (2, 3), (4, 4), (2, 5)]"
      ]
     },
     "execution_count": 44,
     "metadata": {},
     "output_type": "execute_result"
    }
   ],
   "source": [
    "sample_list = [ (2, 5), (1, 2), (4, 4), (2, 3), (2, 1) ]\n",
    "sort_list_tuple(sample_list)"
   ]
  },
  {
   "cell_type": "markdown",
   "metadata": {},
   "source": [
    "22. Write the Python program to remove duplicates from a list?"
   ]
  },
  {
   "cell_type": "code",
   "execution_count": 45,
   "metadata": {},
   "outputs": [],
   "source": [
    "def rmv_dup(sample_list): \n",
    "    res_list = []\n",
    "\n",
    "    for elem in sample_list:\n",
    "        if sample_list.count(elem) >= 1 and res_list.count(elem) == 0:\n",
    "            res_list.append(elem)  \n",
    "    res_list.sort()\n",
    "    return (res_list)   "
   ]
  },
  {
   "cell_type": "code",
   "execution_count": 46,
   "metadata": {},
   "outputs": [
    {
     "data": {
      "text/plain": [
       "[1, 2, 3, 4, 5, 6, 7, 8]"
      ]
     },
     "execution_count": 46,
     "metadata": {},
     "output_type": "execute_result"
    }
   ],
   "source": [
    "sample_list = [1,2,3,4,2,5,2,5,6,7,3,5,3,6,8,3]\n",
    "rmv_dup(sample_list)"
   ]
  },
  {
   "cell_type": "markdown",
   "metadata": {},
   "source": [
    "Q23. Write the Python program to find the list of words that are longer than n from a given list of words?"
   ]
  },
  {
   "cell_type": "code",
   "execution_count": 47,
   "metadata": {},
   "outputs": [],
   "source": [
    "def rmv_largeElem(sample_list, n):    \n",
    "    res_list = []\n",
    "    for elem in sample_list:\n",
    "        if len(elem) > n:\n",
    "            res_list.append(elem)  \n",
    "    return (res_list)   "
   ]
  },
  {
   "cell_type": "code",
   "execution_count": 48,
   "metadata": {},
   "outputs": [
    {
     "data": {
      "text/plain": [
       "['kiwi', 'sheep', 'donkey', 'fish']"
      ]
     },
     "execution_count": 48,
     "metadata": {},
     "output_type": "execute_result"
    }
   ],
   "source": [
    "n=3\n",
    "sample_list = ['cat', 'bat', 'kiwi', 'sheep', 'donkey', 'fish']\n",
    "rmv_largeElem(sample_list, n)"
   ]
  },
  {
   "cell_type": "markdown",
   "metadata": {},
   "source": [
    "Q24. Write the Python program to print a specified list after removing the 0th, 4th, and 5th elements?\n",
    "\n",
    "Sample List - ['Red', 'Green', 'White', 'Black', 'Pink', 'Yellow']\n",
    "Expected Output - ['Green', 'White', 'Black']"
   ]
  },
  {
   "cell_type": "code",
   "execution_count": 49,
   "metadata": {},
   "outputs": [],
   "source": [
    "def rmv_SelElem(sample_list, n):    \n",
    "    rmv_list = []\n",
    "    \n",
    "    for i in n:\n",
    "        rmv_list.append(sample_list[i]) \n",
    "    \n",
    "    for i in rmv_list:\n",
    "        sample_list.remove(i)\n",
    "    \n",
    "    return (sample_list)   "
   ]
  },
  {
   "cell_type": "code",
   "execution_count": 50,
   "metadata": {},
   "outputs": [
    {
     "data": {
      "text/plain": [
       "['Green', 'White', 'Black']"
      ]
     },
     "execution_count": 50,
     "metadata": {},
     "output_type": "execute_result"
    }
   ],
   "source": [
    "n = [0,4,5]\n",
    "sample_list = ['Red', 'Green', 'White', 'Black', 'Pink', 'Yellow']\n",
    "rmv_SelElem(sample_list, n)"
   ]
  },
  {
   "cell_type": "markdown",
   "metadata": {},
   "source": [
    "Q25. Write the Python program to generate all permutations of a list in Python"
   ]
  },
  {
   "cell_type": "code",
   "execution_count": 51,
   "metadata": {},
   "outputs": [
    {
     "data": {
      "text/plain": [
       "[(1, 2, 3), (1, 3, 2), (2, 1, 3), (2, 3, 1), (3, 1, 2), (3, 2, 1)]"
      ]
     },
     "execution_count": 51,
     "metadata": {},
     "output_type": "execute_result"
    }
   ],
   "source": [
    "from itertools import permutations \n",
    "\n",
    "sample_list = [1,2,3]\n",
    "\n",
    "res_list = list(permutations(sample_list))\n",
    "res_list"
   ]
  },
  {
   "cell_type": "markdown",
   "metadata": {},
   "source": [
    "Q26. Write the Python program to convert a pair of values into a sorted\n",
    "unique array?\n",
    "\n",
    "Original List- [ (1, 2), (3, 4), (1, 2), (5, 6), (7, 8), (1, 2), (3, 4), (3, 4), (7, 8), (9, 10) ]\n",
    "\n",
    "Sorted Unique Data- [ 1, 2, 3, 4, 5, 6, 7, 8, 9, 10 ]"
   ]
  },
  {
   "cell_type": "code",
   "execution_count": 52,
   "metadata": {},
   "outputs": [
    {
     "data": {
      "text/plain": [
       "[1, 2, 3, 4, 5, 6, 7, 8, 9, 10]"
      ]
     },
     "execution_count": 52,
     "metadata": {},
     "output_type": "execute_result"
    }
   ],
   "source": [
    "def break_list_tuples(sample_list):    \n",
    "    res_list = []\n",
    "    res_set = set()\n",
    "    \n",
    "    for i in sample_list:\n",
    "        a,b = i\n",
    "        res_set.add(a)\n",
    "        res_set.add(b)\n",
    "    \n",
    "    res_list = sorted(res_set)\n",
    "    return (res_list) \n",
    "\n",
    "sample_list = [ (1, 2), (3, 4), (1, 2), (5, 6), (7, 8), (1, 2), (3, 4), (3, 4), (7, 8), (9, 10) ]\n",
    "break_list_tuples(sample_list)"
   ]
  },
  {
   "cell_type": "markdown",
   "metadata": {},
   "source": [
    "Q27. Write the Python class to convert an integer to a roman numeral?"
   ]
  },
  {
   "cell_type": "code",
   "execution_count": 53,
   "metadata": {},
   "outputs": [],
   "source": [
    "class Number:\n",
    "        def __init__(self,number):  \n",
    "            self.number = number\n",
    "            self.Ref_Dict = {1:'I', 4:'IV', 5:'V', 9:'IX', 10:'X', 40:'XL', 50:'L', 90:'XC', 100:'C', 400:'CD', 500:'D', 900:'CM', 1000:'M'}\n",
    "            self.Roman = ''\n",
    "            \n",
    "        def Convert2Roman(self):\n",
    "            \n",
    "            if self.number >= 4000:\n",
    "                self.Roman = 'No Equivalent Roman Numeral'\n",
    "            \n",
    "            else:\n",
    "                number = self.number\n",
    "                \n",
    "                units = [1000,100,10,1]\n",
    "                for unit in units:\n",
    "                    n_units = number//unit\n",
    "                    if (n_units * unit) in self.Ref_Dict.keys():\n",
    "                        self.Roman += self.Ref_Dict[n_units*unit] \n",
    "                    else:\n",
    "                        if n_units > 5:\n",
    "                            self.Roman += self.Ref_Dict[5*unit] \n",
    "                            n_units -= 5\n",
    "                        for i in range(1,n_units+1):\n",
    "                            self.Roman += self.Ref_Dict[unit] \n",
    "                    \n",
    "                    number = number%unit\n",
    "            return self.Roman"
   ]
  },
  {
   "cell_type": "code",
   "execution_count": 54,
   "metadata": {},
   "outputs": [
    {
     "name": "stdout",
     "output_type": "stream",
     "text": [
      "No Equivalent Roman Numeral\n",
      "MMMCMLXXXIV\n",
      "MMCDXCVIII\n"
     ]
    }
   ],
   "source": [
    "print(Number(4984).Convert2Roman())\n",
    "print(Number(3984).Convert2Roman())\n",
    "print(Number(2498).Convert2Roman())"
   ]
  },
  {
   "cell_type": "markdown",
   "metadata": {},
   "source": [
    "Q28. Write the Python class to convert a Roman numeral to an integer?"
   ]
  },
  {
   "cell_type": "code",
   "execution_count": 55,
   "metadata": {},
   "outputs": [],
   "source": [
    "class Roman:\n",
    "        def __init__(self,roman):  \n",
    "            self.roman = roman\n",
    "            self.Ref_Dict = {'I':1, 'IV':4, 'V':5, 'IX':9, 'X':10, 'XL':40, 'L':50, 'XC':90, 'C':100, 'CD':400, 'D':500, 'CM':900, 'M':1000}\n",
    "            self.result = 0\n",
    "            \n",
    "        def Convert2Integer(self):\n",
    "            roman = self.roman\n",
    "            \n",
    "            no_next = 0\n",
    "            for idx in range(len(roman)):\n",
    "                if no_next == 0:\n",
    "                    if roman[idx:idx+2] in self.Ref_Dict.keys():\n",
    "                        self.result += self.Ref_Dict[roman[idx:idx+2]]\n",
    "                        no_next = 1\n",
    "                    else:\n",
    "                        self.result += self.Ref_Dict[roman[idx]]\n",
    "                else:\n",
    "                    no_next = 0\n",
    "            return self.result"
   ]
  },
  {
   "cell_type": "code",
   "execution_count": 56,
   "metadata": {},
   "outputs": [
    {
     "name": "stdout",
     "output_type": "stream",
     "text": [
      "2498\n",
      "3984\n"
     ]
    }
   ],
   "source": [
    "print(Roman('MMCDXCVIII').Convert2Integer())\n",
    "print(Roman('MMMCMLXXXIV').Convert2Integer())"
   ]
  },
  {
   "cell_type": "markdown",
   "metadata": {},
   "source": [
    "Q29. Write the Python class to find the validity of the string of the\n",
    "parentheses, '(', ')', '{', '}', '[' and '] and the brackets must be closed\n",
    "in the correct order, example - \"()\" and \"()[]{}\" are valid but \"[)\",\n",
    "\"({[)]\" and \"{{{\" are invalid."
   ]
  },
  {
   "cell_type": "code",
   "execution_count": 57,
   "metadata": {},
   "outputs": [],
   "source": [
    "class Strings:\n",
    "            \n",
    "        def __init__(self, String):\n",
    "            self.String = String\n",
    "    \n",
    "        \n",
    "        def Validate_Parantheses(self):\n",
    "            String = self.String\n",
    "            ref_dic = {  '(' : ')',     '{' : '}',    '[' : ']' }\n",
    "            \n",
    "            open_list  = []\n",
    "            result = True\n",
    "\n",
    "            \n",
    "            for char in String:\n",
    "                \n",
    "                if char in ref_dic.keys():\n",
    "                    open_list.append(char)\n",
    "     \n",
    "                \n",
    "                if char in ref_dic.values():\n",
    "                    if char != ref_dic[open_list[-1]]:\n",
    "                        result = False\n",
    "                    else:\n",
    "                        open_list.remove(open_list[-1])\n",
    "                  \n",
    "            if len(open_list) > 0:\n",
    "                result = False\n",
    "                \n",
    "                \n",
    "            return result"
   ]
  },
  {
   "cell_type": "code",
   "execution_count": 58,
   "metadata": {},
   "outputs": [
    {
     "name": "stdout",
     "output_type": "stream",
     "text": [
      "()\t: True\n",
      "()[]{}\t: True\n",
      "[)\t: False\n",
      "({[)]\t: False\n",
      "[({})]\t: True\n",
      "[()]{}\t: True\n",
      "[(]){}\t: False\n",
      "{{{\t: False\n"
     ]
    }
   ],
   "source": [
    "List = [\"()\" , \"()[]{}\" ,\"[)\", \"({[)]\" , \"[({})]\",\"[()]{}\", \"[(]){}\",\"{{{\"]\n",
    "\n",
    "for String in List:\n",
    "    print(String + '\\t:',Strings(String).Validate_Parantheses())"
   ]
  },
  {
   "cell_type": "markdown",
   "metadata": {},
   "source": [
    "Q29. Write the Python class to get all possible unique subsets from a set of distinct integers?\n",
    "\n",
    "Input - [4, 5, 6]\n",
    "Output - [[], [6], [5], [5, 6], [4], [4, 6], [4, 5], [4, 5, 6]]"
   ]
  },
  {
   "cell_type": "code",
   "execution_count": 59,
   "metadata": {},
   "outputs": [],
   "source": [
    "class List:\n",
    "    def __init__(self,List):\n",
    "        self.l = List\n",
    "        self.length = len(List)\n",
    "    \n",
    "    def get_unique_subsets(self):\n",
    "        result = [[]]\n",
    "        length = len(self.l)\n",
    "        \n",
    "        for fix in range(length):\n",
    "            \n",
    "            if [self.l[fix]] not in result:\n",
    "                result.append([self.l[fix]])\n",
    "                \n",
    "        for take in range(0,self.length):\n",
    "            \n",
    "            elem = self.l[:take] + self.l[take:self.length-take]\n",
    "            if elem not in result:\n",
    "                result.append(elem)\n",
    "                \n",
    "            elem = self.l[:take] + self.l[take+1:]\n",
    "            if elem not in result:\n",
    "                result.append(elem)\n",
    "            \n",
    "            elem = self.l[take:]\n",
    "            if elem not in result:\n",
    "                result.append(elem)\n",
    "                       \n",
    "        return result"
   ]
  },
  {
   "cell_type": "code",
   "execution_count": 60,
   "metadata": {},
   "outputs": [
    {
     "data": {
      "text/plain": [
       "[[], [4], [5], [6], [4, 5, 6], [5, 6], [4, 5], [4, 6]]"
      ]
     },
     "execution_count": 60,
     "metadata": {},
     "output_type": "execute_result"
    }
   ],
   "source": [
    "List([4, 5, 6]).get_unique_subsets() "
   ]
  },
  {
   "cell_type": "markdown",
   "metadata": {},
   "source": [
    "Q31. Write the Python class to find a pair of elements (indices of the two\n",
    "numbers) from a given array whose sum equals the specific target\n",
    "number?\n",
    "\n",
    "    Input: numbers- [10,20,10,40,50,60,70], target=50\n",
    "    Output- 3, 4"
   ]
  },
  {
   "cell_type": "code",
   "execution_count": 61,
   "metadata": {},
   "outputs": [],
   "source": [
    "class List:\n",
    "    def __init__(self,List,n):\n",
    "        self.l = List\n",
    "        self.n = n\n",
    "    \n",
    "    def target(self):\n",
    "        List = self.l\n",
    "        n = self.n\n",
    "        \n",
    "        result = []\n",
    "        for i in range(len(List)):\n",
    "            for j in range(i+1, len(List)):\n",
    "                if List[i]+List[j] == target and i != j:         \n",
    "                    if j > i:\n",
    "                        result.append((i+1,j+1))\n",
    "        return result"
   ]
  },
  {
   "cell_type": "code",
   "execution_count": 62,
   "metadata": {},
   "outputs": [
    {
     "data": {
      "text/plain": [
       "[(1, 4), (2, 8), (3, 4)]"
      ]
     },
     "execution_count": 62,
     "metadata": {},
     "output_type": "execute_result"
    }
   ],
   "source": [
    "Input= [10,20,10,40,50,60,70,30] \n",
    "target=50\n",
    "\n",
    "List(Input,target).target()"
   ]
  },
  {
   "cell_type": "markdown",
   "metadata": {},
   "source": [
    "Q32. Write the Python class to find the three elements that sum to zero\n",
    "from the set of n real numbers?\n",
    "\n",
    "    Input array- [-25, -10, -7, -3, 2, 4, 8, 10]\n",
    "    Output - [[-10, 2, 8], [-7, -3, 10]]"
   ]
  },
  {
   "cell_type": "code",
   "execution_count": 63,
   "metadata": {},
   "outputs": [],
   "source": [
    "class List:\n",
    "    def __init__(self,List,n):\n",
    "        self.l = List\n",
    "        self.n = n\n",
    "    \n",
    "    def target(self):\n",
    "        List = self.l\n",
    "        n = self.n\n",
    "        \n",
    "        result = []\n",
    "        for i in List:\n",
    "            for j in List:\n",
    "                for k in List:\n",
    "                    p,q,r = 0,0,0\n",
    "                    if i+j+k == target and i != j and j!=k:\n",
    "                        p,q,r = i,j,k\n",
    "              \n",
    "                    if q > p and r > q:\n",
    "                        result.append((p,q,r))\n",
    "        return result"
   ]
  },
  {
   "cell_type": "code",
   "execution_count": 64,
   "metadata": {},
   "outputs": [
    {
     "data": {
      "text/plain": [
       "[(-10, 2, 8), (-7, -3, 10)]"
      ]
     },
     "execution_count": 64,
     "metadata": {},
     "output_type": "execute_result"
    }
   ],
   "source": [
    "Input  = [-25, -10, -7, -3, 2, 4, 8, 10] \n",
    "target = 0\n",
    "\n",
    "List(Input,target).target()"
   ]
  },
  {
   "cell_type": "markdown",
   "metadata": {},
   "source": [
    "Q33. Write the Python class to implement pow(x, n)?"
   ]
  },
  {
   "cell_type": "code",
   "execution_count": 65,
   "metadata": {},
   "outputs": [
    {
     "data": {
      "text/plain": [
       "8"
      ]
     },
     "execution_count": 65,
     "metadata": {},
     "output_type": "execute_result"
    }
   ],
   "source": [
    "class numbers:\n",
    "    def __init__(self):\n",
    "        self= self\n",
    "    \n",
    "    def pow(self,x,n):\n",
    "        self.x = x\n",
    "        self.n = n\n",
    "        return ((self.x) ** (self.n))\n",
    "\n",
    "a = numbers()\n",
    "a.pow(2,3)"
   ]
  },
  {
   "cell_type": "markdown",
   "metadata": {},
   "source": [
    "Q34.Write the Python class which has two methods get_String and print_String. get_String accept the string from the user and print_String print the string in upper case."
   ]
  },
  {
   "cell_type": "code",
   "execution_count": 66,
   "metadata": {},
   "outputs": [
    {
     "name": "stdout",
     "output_type": "stream",
     "text": [
      "Input string:gOOd Morning\n",
      "GOOD MORNING\n"
     ]
    }
   ],
   "source": [
    "class test:\n",
    "    \n",
    "    def __init__(self):\n",
    "        self= self  \n",
    "        \n",
    "    def get_String(self):\n",
    "        self.x = input('Input string:')\n",
    "\n",
    "    def print_String(self):\n",
    "        print((self.x).upper())\n",
    "\n",
    "a = test()\n",
    "a.get_String()\n",
    "a.print_String()"
   ]
  },
  {
   "cell_type": "markdown",
   "metadata": {},
   "source": [
    "Q35. Write the Python class named Rectangle constructed by a length and width and the method which will compute the area of the rectangle?"
   ]
  },
  {
   "cell_type": "code",
   "execution_count": 67,
   "metadata": {},
   "outputs": [
    {
     "data": {
      "text/plain": [
       "50"
      ]
     },
     "execution_count": 67,
     "metadata": {},
     "output_type": "execute_result"
    }
   ],
   "source": [
    "class rectangle:\n",
    "    \n",
    "    def __init__(self,length,breadth):\n",
    "        self.length  = length\n",
    "        self.breadth = breadth\n",
    "        \n",
    "    def area(self):\n",
    "        return ( (self.length * self.breadth) )\n",
    "\n",
    "a = rectangle(10,5)\n",
    "a.area()"
   ]
  },
  {
   "cell_type": "markdown",
   "metadata": {},
   "source": [
    "Q36. Write the Python class named Circle constructed by the radius and two methods which will compute the area and perimeter of the circle?"
   ]
  },
  {
   "cell_type": "code",
   "execution_count": 68,
   "metadata": {},
   "outputs": [
    {
     "name": "stdout",
     "output_type": "stream",
     "text": [
      "Circle Area:  154.0\n",
      "Circle Perimeter:  44.0\n"
     ]
    }
   ],
   "source": [
    "class circle:\n",
    "    \n",
    "    def __init__(self,radius):\n",
    "        self.r  = radius\n",
    "        \n",
    "    def area(self):\n",
    "        return (   (self.r ** 2) * 22/7.0  )\n",
    "    \n",
    "    def perimeter(self):\n",
    "        return (   (self.r * 2) * 22/7.0  )\n",
    "    \n",
    "a = circle(7)\n",
    "print(\"Circle Area: \", a.area())\n",
    "print(\"Circle Perimeter: \", a.perimeter())"
   ]
  },
  {
   "cell_type": "markdown",
   "metadata": {},
   "source": [
    "Q37. Write the Python program to get the class name of an instance in\n",
    "Python?\n"
   ]
  },
  {
   "cell_type": "code",
   "execution_count": 70,
   "metadata": {},
   "outputs": [
    {
     "name": "stdout",
     "output_type": "stream",
     "text": [
      "<__main__.circle object at 0x00000244D471DAC8>\n",
      "True\n"
     ]
    }
   ],
   "source": [
    "print(a.__str__())\n",
    "print(isinstance(a,circle))"
   ]
  },
  {
   "cell_type": "markdown",
   "metadata": {},
   "source": [
    "Q38. Write the Python program to count the number of students of\n",
    "individual class?\n",
    "\n",
    "    Sample dataclasses = (\n",
    "    ('V', 1),\n",
    "    ('VI', 1),\n",
    "    ('V', 2),\n",
    "    ('VI', 2),\n",
    "    ('VI', 3),\n",
    "    ('VII', 1),\n",
    "    )\n",
    "    Expected OutputCounter({'VI': 3, 'V': 2, 'VII': 1})"
   ]
  },
  {
   "cell_type": "code",
   "execution_count": 77,
   "metadata": {},
   "outputs": [
    {
     "data": {
      "text/plain": [
       "Counter({'V': 2, 'VI': 3, 'VII': 1})"
      ]
     },
     "execution_count": 77,
     "metadata": {},
     "output_type": "execute_result"
    }
   ],
   "source": [
    "from collections import Counter\n",
    "\n",
    "Class_Data = [\n",
    "('V', 1),\n",
    "('VI', 1),\n",
    "('V', 2),\n",
    "('VI', 2),\n",
    "('VI', 3),\n",
    "('VII', 1)\n",
    "]\n",
    "\n",
    "Students_by_Class = Counter(Class for Class, Students in Class_Data)\n",
    "Students_by_Class "
   ]
  },
  {
   "cell_type": "markdown",
   "metadata": {},
   "source": [
    "Q39. Write the Python program to create an instance of an OrderedDict \n",
    "using the given dictionary and sort dictionary during the\n",
    "creation and print members of the dictionary in reverse order?\n",
    "\n",
    "    Expected Output\n",
    "    Angola 244.\n",
    "    Andorra 376.\n",
    "    Algeria 213.\n",
    "    Afghanistan 93.\n",
    "    Albania 355.\n",
    "    \n",
    "    In reverse order\n",
    "    Albania 355.\n",
    "    Afghanistan 93.\n",
    "    Algeria 213.\n",
    "    Andorra 376.\n",
    "    Angola 244."
   ]
  },
  {
   "cell_type": "code",
   "execution_count": 78,
   "metadata": {},
   "outputs": [
    {
     "name": "stdout",
     "output_type": "stream",
     "text": [
      "This is a Dict:\n",
      "\n",
      "Angola 244\n",
      "Andorra 376\n",
      "Algeria 213\n",
      "Afghanistan 93\n",
      "Albania 355\n",
      "\n",
      "This is an Ordered Dict in reverse order:\n",
      "\n",
      "Albania 355\n",
      "Afghanistan 93\n",
      "Algeria 213\n",
      "Andorra 376\n",
      "Angola 244\n"
     ]
    }
   ],
   "source": [
    "from collections import OrderedDict \n",
    "  \n",
    "print(\"This is a Dict:\\n\") \n",
    "d = {} \n",
    "d['Angola']      = 244\n",
    "d['Andorra']     = 376\n",
    "d['Algeria']     = 213\n",
    "d['Afghanistan'] = 93\n",
    "d['Albania']     = 355\n",
    "\n",
    "for key, value in d.items(): \n",
    "    print(key, value) "
   ]
  },
  {
   "cell_type": "code",
   "execution_count": null,
   "metadata": {},
   "outputs": [],
   "source": [
    "print(\"\\nThis is an Ordered Dict in reverse order:\\n\")\n",
    "od = OrderedDict() \n",
    "od['Angola']      = 244\n",
    "od['Andorra']     = 376\n",
    "od['Algeria']     = 213\n",
    "od['Afghanistan'] = 93\n",
    "od['Albania']     = 355\n",
    "  \n",
    "for key, value in reversed(od.items()): \n",
    "    print(key, value) "
   ]
  },
  {
   "cell_type": "code",
   "execution_count": 80,
   "metadata": {},
   "outputs": [
    {
     "ename": "TypeError",
     "evalue": "'dict_items' object is not reversible",
     "output_type": "error",
     "traceback": [
      "\u001b[1;31m---------------------------------------------------------------------------\u001b[0m",
      "\u001b[1;31mTypeError\u001b[0m                                 Traceback (most recent call last)",
      "\u001b[1;32m<ipython-input-80-f0bf439f319a>\u001b[0m in \u001b[0;36m<module>\u001b[1;34m\u001b[0m\n\u001b[1;32m----> 1\u001b[1;33m \u001b[1;32mfor\u001b[0m \u001b[0mkey\u001b[0m\u001b[1;33m,\u001b[0m \u001b[0mvalue\u001b[0m \u001b[1;32min\u001b[0m \u001b[0mreversed\u001b[0m\u001b[1;33m(\u001b[0m\u001b[0md\u001b[0m\u001b[1;33m.\u001b[0m\u001b[0mitems\u001b[0m\u001b[1;33m(\u001b[0m\u001b[1;33m)\u001b[0m\u001b[1;33m)\u001b[0m\u001b[1;33m:\u001b[0m\u001b[1;33m\u001b[0m\u001b[1;33m\u001b[0m\u001b[0m\n\u001b[0m\u001b[0;32m      2\u001b[0m     \u001b[0mprint\u001b[0m\u001b[1;33m(\u001b[0m\u001b[0mkey\u001b[0m\u001b[1;33m,\u001b[0m \u001b[0mvalue\u001b[0m\u001b[1;33m)\u001b[0m\u001b[1;33m\u001b[0m\u001b[1;33m\u001b[0m\u001b[0m\n\u001b[0;32m      3\u001b[0m \u001b[1;31m## Conclusion: Normal Dictionary is not reversible. But, Ordered Dictionary is reversible\u001b[0m\u001b[1;33m\u001b[0m\u001b[1;33m\u001b[0m\u001b[1;33m\u001b[0m\u001b[0m\n",
      "\u001b[1;31mTypeError\u001b[0m: 'dict_items' object is not reversible"
     ]
    }
   ],
   "source": [
    "for key, value in reversed(d.items()): \n",
    "    print(key, value) \n",
    "## Conclusion: Normal Dictionary is not reversible. But, Ordered Dictionary is reversible"
   ]
  },
  {
   "cell_type": "markdown",
   "metadata": {},
   "source": [
    "Q40. Write the Python program to compare two unordered lists (not\n",
    "sets)?\n",
    " \n",
    "     Expected Output: False"
   ]
  },
  {
   "cell_type": "code",
   "execution_count": 81,
   "metadata": {},
   "outputs": [
    {
     "name": "stdout",
     "output_type": "stream",
     "text": [
      "Counter({10: 1, 30: 1, 50: 1, 80: 1})\n",
      "Counter({30: 1, 50: 1, 80: 1, 10: 1})\n"
     ]
    },
    {
     "data": {
      "text/plain": [
       "True"
      ]
     },
     "execution_count": 81,
     "metadata": {},
     "output_type": "execute_result"
    }
   ],
   "source": [
    "from collections import Counter\n",
    "\n",
    "def Compare_Lists(List1, List2):\n",
    "    result = True\n",
    "    \n",
    "    if len(List1) == len(List2):\n",
    "        a = Counter(List1)\n",
    "        b = Counter(List2)\n",
    "        print(a)  # Just for reference\n",
    "        print(b)  # Just for reference\n",
    "        if a != b:\n",
    "            result = False \n",
    "    else:\n",
    "        result = False\n",
    "    \n",
    "    return result\n",
    "\n",
    "\n",
    "List1 = [10,30,50,80]\n",
    "List2 = [30,50,80,10]\n",
    "Compare_Lists(List1,List2)"
   ]
  },
  {
   "cell_type": "code",
   "execution_count": 82,
   "metadata": {},
   "outputs": [
    {
     "name": "stdout",
     "output_type": "stream",
     "text": [
      "Counter({10: 1, 30: 1, 50: 1, 80: 1})\n",
      "Counter({30: 1, 50: 1, 80: 1, 90: 1})\n"
     ]
    },
    {
     "data": {
      "text/plain": [
       "False"
      ]
     },
     "execution_count": 82,
     "metadata": {},
     "output_type": "execute_result"
    }
   ],
   "source": [
    "List1 = [10,30,50,80]\n",
    "List2 = [30,50,80,90]\n",
    "Compare_Lists(List1,List2)"
   ]
  },
  {
   "cell_type": "markdown",
   "metadata": {},
   "source": [
    "Q41. Write the Python program to get an array buffer information?\n",
    "\n",
    "Expected OutputArray buffer start address in memory and number of elements.\n",
    "(25855056, 2)"
   ]
  },
  {
   "cell_type": "code",
   "execution_count": 83,
   "metadata": {},
   "outputs": [
    {
     "name": "stdout",
     "output_type": "stream",
     "text": [
      "Buffer Start Address & Array Size + Size of each element:  (2494645655152, 3, 4)\n"
     ]
    }
   ],
   "source": [
    "import numpy as np\n",
    "\n",
    "a = np.array([10,20,30])\n",
    "\n",
    "(Buffer_Start,Size,Elem_Size) = (id(a),a.size,a.itemsize)\n",
    "\n",
    "print(\"Buffer Start Address & Array Size + Size of each element: \", (Buffer_Start,Size,Elem_Size) )"
   ]
  },
  {
   "cell_type": "code",
   "execution_count": null,
   "metadata": {},
   "outputs": [],
   "source": []
  },
  {
   "cell_type": "code",
   "execution_count": null,
   "metadata": {},
   "outputs": [],
   "source": []
  }
 ],
 "metadata": {
  "kernelspec": {
   "display_name": "Python 3",
   "language": "python",
   "name": "python3"
  },
  "language_info": {
   "codemirror_mode": {
    "name": "ipython",
    "version": 3
   },
   "file_extension": ".py",
   "mimetype": "text/x-python",
   "name": "python",
   "nbconvert_exporter": "python",
   "pygments_lexer": "ipython3",
   "version": "3.7.6"
  }
 },
 "nbformat": 4,
 "nbformat_minor": 2
}

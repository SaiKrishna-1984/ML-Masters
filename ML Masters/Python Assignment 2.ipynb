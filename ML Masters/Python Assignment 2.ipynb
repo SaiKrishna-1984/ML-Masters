{
 "cells": [
  {
   "cell_type": "markdown",
   "metadata": {},
   "source": [
    "### 1.1 Write a Python Program to implement your own myreduce() function which works exactly like Python's built-in function reduce()"
   ]
  },
  {
   "cell_type": "code",
   "execution_count": 2,
   "metadata": {},
   "outputs": [
    {
     "name": "stdout",
     "output_type": "stream",
     "text": [
      "Input Number (N):  3\n",
      "Result(Sum to N):  6\n"
     ]
    }
   ],
   "source": [
    "def myReduce(n):\n",
    "        summ = 0\n",
    "        for i in range(n+1):\n",
    "            summ += i\n",
    "        print(\"Result(Sum to N): \",summ)\n",
    "\n",
    "n_char = input(\"Input Number (N):  \")\n",
    "n = int(n_char)\n",
    "\n",
    "myReduce(n)"
   ]
  },
  {
   "cell_type": "markdown",
   "metadata": {},
   "source": [
    "### 1.2 Write a Python program to implement your own myfilter() function which works exactly like Python's built-in function filter()"
   ]
  },
  {
   "cell_type": "code",
   "execution_count": 5,
   "metadata": {},
   "outputs": [
    {
     "name": "stdout",
     "output_type": "stream",
     "text": [
      "Base  [1, 2, 3, 4, 5, 6, 7, 8, 9, 10, 11, 12, 13, 14, 15, 16, 17, 18, 19, 20, 21, 22, 23, 24]\n",
      "Result :  [1, 2, 3, 4, 5, 7, 9, 11, 13, 17, 19, 23]\n"
     ]
    }
   ],
   "source": [
    "import math\n",
    "\n",
    "def myPrimeFunc(n):\n",
    "    for i in range(2, math.ceil(math.sqrt(n))):\n",
    "        if n % i == 0:\n",
    "            return False\n",
    "    return True\n",
    "\n",
    "List = list(range(1,25))\n",
    "print(\"Base \", List)\n",
    "\n",
    "FList = []\n",
    "FList = [i     for i in List    if myPrimeFunc(i)]\n",
    "\n",
    "print(\"Result : \",FList)"
   ]
  },
  {
   "cell_type": "code",
   "execution_count": 6,
   "metadata": {},
   "outputs": [
    {
     "name": "stdout",
     "output_type": "stream",
     "text": [
      "Base  [1, 2, 3, 4, 5, 6, 7, 8, 9, 10, 11, 12, 13, 14, 15, 16, 17, 18, 19, 20, 21, 22, 23, 24]\n",
      "Even Filter list  [2, 4, 6, 8, 10, 12, 14, 16, 18, 20, 22, 24]\n",
      "Prime Filter List  [1, 2, 3, 4, 5, 7, 9, 11, 13, 17, 19, 23]\n"
     ]
    }
   ],
   "source": [
    "def myFilter(mFunc,mList):\n",
    "    mFList = []\n",
    "    mFList = [i     for i in List    if mFunc(i)]\n",
    "    \n",
    "    return mFList\n",
    "\n",
    "List = list(range(1,25))\n",
    "print(\"Base \", List)\n",
    "\n",
    "List1 = list(myFilter(lambda x: x%2==0,List))\n",
    "print(\"Even Filter list \",List1)\n",
    "\n",
    "\n",
    "List2 = list(myFilter(myPrimeFunc,List))\n",
    "print(\"Prime Filter List \",List2)"
   ]
  },
  {
   "cell_type": "markdown",
   "metadata": {},
   "source": [
    "### 2. Implement List comprehensions to produce the following lists.\n",
    "###      Write List comprehensions to produce the following Lists\n",
    "### ['A', 'C', 'A', 'D', 'G', 'I', ’L’, ‘ D’]\n",
    "### ['x', 'xx', 'xxx', 'xxxx', 'y', 'yy', 'yyy', 'yyyy', 'z', 'zz', 'zzz', 'zzzz']\n",
    "### ['x', 'y', 'z', 'xx', 'yy', 'zz', 'xx', 'yy', 'zz', 'xxxx', 'yyyy', 'zzzz']\n",
    "### [[2], [3], [4], [3], [4], [5], [4], [5], [6]]\n",
    "### [[2, 3, 4, 5], [3, 4, 5, 6], [4, 5, 6, 7], [5, 6, 7, 8]]\n",
    "### [(1, 1), (2, 1), (3, 1), (1, 2), (2, 2), (3, 2), (1, 3), (2, 3), (3, 3)]"
   ]
  },
  {
   "cell_type": "code",
   "execution_count": 4,
   "metadata": {},
   "outputs": [
    {
     "data": {
      "text/plain": [
       "['A', 'C', 'A', 'D', 'G', 'I', 'L', 'D']"
      ]
     },
     "execution_count": 4,
     "metadata": {},
     "output_type": "execute_result"
    }
   ],
   "source": [
    "List_Comp1 = [letter for letter in 'ACADGILD' ]\n",
    "List_Comp1"
   ]
  },
  {
   "cell_type": "code",
   "execution_count": 5,
   "metadata": {},
   "outputs": [
    {
     "data": {
      "text/plain": [
       "['X', 'XX', 'XXX', 'XXXX', 'Y', 'YY', 'YYY', 'YYYY', 'Z', 'ZZ', 'ZZZ', 'ZZZZ']"
      ]
     },
     "execution_count": 5,
     "metadata": {},
     "output_type": "execute_result"
    }
   ],
   "source": [
    "List_Comp2 = []\n",
    "for char in 'XYZ':\n",
    "    element = ''\n",
    "    for i in range(4):\n",
    "        element += char\n",
    "        List_Comp2.append(element)\n",
    "List_Comp2"
   ]
  },
  {
   "cell_type": "code",
   "execution_count": 1,
   "metadata": {},
   "outputs": [
    {
     "data": {
      "text/plain": [
       "['X', 'Y', 'Z', 'XX', 'YY', 'ZZ', 'XXX', 'YYY', 'ZZZ', 'XXXX', 'YYYY', 'ZZZZ']"
      ]
     },
     "execution_count": 1,
     "metadata": {},
     "output_type": "execute_result"
    }
   ],
   "source": [
    "List_Comp3 = []\n",
    "\n",
    "for i in range(1,5):\n",
    "    for char in 'XYZ':\n",
    "        element = ''\n",
    "        for k in range(i):\n",
    "            element += char\n",
    "        List_Comp3.append(element)\n",
    "List_Comp3"
   ]
  },
  {
   "cell_type": "code",
   "execution_count": 7,
   "metadata": {},
   "outputs": [
    {
     "data": {
      "text/plain": [
       "[[2], [3], [4], [3], [4], [5], [4], [5], [6]]"
      ]
     },
     "execution_count": 7,
     "metadata": {},
     "output_type": "execute_result"
    }
   ],
   "source": [
    "List_Comp4 = []\n",
    "\n",
    "for i in range(2,5):\n",
    "    for k in range(3):\n",
    "        element = [i]\n",
    "        i +=1\n",
    "        List_Comp4.append(element)\n",
    "List_Comp4"
   ]
  },
  {
   "cell_type": "code",
   "execution_count": 8,
   "metadata": {},
   "outputs": [
    {
     "data": {
      "text/plain": [
       "[[2, 3, 4, 5], [3, 4, 5, 6], [4, 5, 6, 7], [5, 6, 7, 8]]"
      ]
     },
     "execution_count": 8,
     "metadata": {},
     "output_type": "execute_result"
    }
   ],
   "source": [
    "List_Comp5 = []\n",
    "\n",
    "for i in range(2,6):\n",
    "    element =[]\n",
    "    for k in range(4):\n",
    "        element.append(i)\n",
    "        i +=1\n",
    "    List_Comp5.append(element)   \n",
    "    \n",
    "List_Comp5"
   ]
  },
  {
   "cell_type": "code",
   "execution_count": 9,
   "metadata": {},
   "outputs": [
    {
     "data": {
      "text/plain": [
       "[(1, 1), (2, 1), (3, 1), (1, 2), (2, 2), (3, 2), (1, 3), (2, 3), (3, 3)]"
      ]
     },
     "execution_count": 9,
     "metadata": {},
     "output_type": "execute_result"
    }
   ],
   "source": [
    "List_Comp6 = []\n",
    "\n",
    "for i in range(1,4):\n",
    "    for j in range(1,4):\n",
    "        element = (j,i)\n",
    "        List_Comp6.append(element)   \n",
    "    \n",
    "List_Comp6"
   ]
  },
  {
   "cell_type": "markdown",
   "metadata": {},
   "source": [
    "## Task 2:\n",
    "###  1.1 Write a Python Program(with class concepts) to find the area of the triangle using the below formula.\n",
    "area = (s*(s-a)*(s-b)*(s-c)) ** 0.5\n",
    "Function to take the length of the sides of triangle from user should be defined in the parent\n",
    "class and function to calculate the area should be defined in subclass."
   ]
  },
  {
   "cell_type": "code",
   "execution_count": 8,
   "metadata": {},
   "outputs": [],
   "source": [
    "class triangle:\n",
    "    def __init__(self, a , b , c):\n",
    "        self.a = a\n",
    "        self.b = b\n",
    "        self.c = c\n",
    "       \n",
    "    def area(self):\n",
    "        s = 0.5 * (self.a + self.b + self.c)\n",
    "        #return  (s * (s-self.a) * (s-self.b) * (s-self.c)) ** 0.5\n",
    "        return  math.sqrt(s * (s-self.a) * (s-self.b) * (s-self.c))"
   ]
  },
  {
   "cell_type": "code",
   "execution_count": 9,
   "metadata": {},
   "outputs": [
    {
     "data": {
      "text/plain": [
       "6.0"
      ]
     },
     "execution_count": 9,
     "metadata": {},
     "output_type": "execute_result"
    }
   ],
   "source": [
    "t = triangle(3,4,5)\n",
    "t.area()"
   ]
  },
  {
   "cell_type": "markdown",
   "metadata": {},
   "source": [
    "### 1.2 Write a function filter_long_words() that takes a list of words and an integer n and returns the list of words that are longer than n."
   ]
  },
  {
   "cell_type": "code",
   "execution_count": 22,
   "metadata": {},
   "outputs": [
    {
     "name": "stdout",
     "output_type": "stream",
     "text": [
      "Base   : ['Monkey', 'Donkey', 'Funky', 'Top', 'Blue']\n",
      "Result : ['Monkey', 'Donkey']\n"
     ]
    }
   ],
   "source": [
    "def isLongWord(Word,n=5):\n",
    "    Letters = [letter for letter in Word ]\n",
    "    if len(Word) > n:\n",
    "        return True\n",
    "    return False\n",
    "\n",
    "List = ['Monkey', 'Donkey', 'Funky', 'Top', 'Blue']\n",
    "print(\"Base   :\", List)\n",
    "\n",
    "FList = list(filter(isLongWord,List))\n",
    "print(\"Result :\",FList)"
   ]
  },
  {
   "cell_type": "code",
   "execution_count": 17,
   "metadata": {},
   "outputs": [
    {
     "name": "stdout",
     "output_type": "stream",
     "text": [
      "Result : ['Monkey', 'Donkey', 'Funky']\n"
     ]
    }
   ],
   "source": [
    "FList = []\n",
    "FList = [Word  for Word in List   if isLongWord(Word, n=4) ]\n",
    "print(\"Result :\",FList)"
   ]
  },
  {
   "cell_type": "markdown",
   "metadata": {},
   "source": [
    "### 2.1 Write a Python program using function concept that maps list of words into a list of integers representing the lengths of the corresponding words .\n",
    "Hint: If a list [ ab,cde,erty] is passed on to the python function output should come as [2,3,4]\n",
    "Here 2,3 and 4 are the lengths of the words in the list."
   ]
  },
  {
   "cell_type": "code",
   "execution_count": 19,
   "metadata": {},
   "outputs": [
    {
     "name": "stdout",
     "output_type": "stream",
     "text": [
      "Base   : ['Monkey', 'Donkey', 'Funky', 'Top', 'Blue']\n",
      "Result : [6, 6, 5, 3, 4]\n"
     ]
    }
   ],
   "source": [
    "def Length(Word):\n",
    "    #Letters = [letter for letter in Word ]\n",
    "    #return len(Letters)\n",
    "    return len(Word)\n",
    "\n",
    "List = ['Monkey', 'Donkey', 'Funky', 'Top', 'Blue']\n",
    "print(\"Base   :\", List)\n",
    "\n",
    "FList = list(map(Length,List))\n",
    "print(\"Result :\",FList)"
   ]
  },
  {
   "cell_type": "markdown",
   "metadata": {},
   "source": [
    "### 2.2 Write a Python function which takes a character (i.e. a string of length 1) and returns True if it is a vowel, False otherwise."
   ]
  },
  {
   "cell_type": "code",
   "execution_count": 23,
   "metadata": {},
   "outputs": [
    {
     "name": "stdout",
     "output_type": "stream",
     "text": [
      "Base   : ['p', 'K', 'O', 'a', 'G', 'u']\n",
      "Result : [False, False, True, True, False, True]\n"
     ]
    }
   ],
   "source": [
    "def isVowel(Letter):\n",
    "    if Letter.lower() in ['a','e','i','o','u']:\n",
    "        return True\n",
    "    return False\n",
    "\n",
    "List = ['p', 'K', 'O', 'a', 'G', 'u']\n",
    "print(\"Base   :\", List)\n",
    "\n",
    "FList = list(map(isVowel,List))\n",
    "print(\"Result :\",FList)"
   ]
  },
  {
   "cell_type": "code",
   "execution_count": null,
   "metadata": {},
   "outputs": [],
   "source": []
  }
 ],
 "metadata": {
  "kernelspec": {
   "display_name": "Python 3",
   "language": "python",
   "name": "python3"
  },
  "language_info": {
   "codemirror_mode": {
    "name": "ipython",
    "version": 3
   },
   "file_extension": ".py",
   "mimetype": "text/x-python",
   "name": "python",
   "nbconvert_exporter": "python",
   "pygments_lexer": "ipython3",
   "version": "3.7.6"
  }
 },
 "nbformat": 4,
 "nbformat_minor": 2
}
